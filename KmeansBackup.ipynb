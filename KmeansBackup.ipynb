{
 "cells": [
  {
   "cell_type": "code",
   "execution_count": 17,
   "id": "b33670c9",
   "metadata": {},
   "outputs": [],
   "source": [
    "import pandas as pd\n",
    "import glob\n",
    "import numpy as np\n",
    "import matplotlib.pyplot as plt\n",
    "%matplotlib inline"
   ]
  },
  {
   "cell_type": "code",
   "execution_count": 18,
   "id": "73b88f93",
   "metadata": {},
   "outputs": [],
   "source": [
    "# Get data\n",
    "array_files_csv = glob.glob(\"Circles/*.csv\")"
   ]
  },
  {
   "cell_type": "code",
   "execution_count": 19,
   "id": "e426d0df",
   "metadata": {
    "scrolled": false
   },
   "outputs": [
    {
     "data": {
      "text/plain": [
       "['Circles/smal_circle.csv', 'Circles/big_circle.csv']"
      ]
     },
     "execution_count": 19,
     "metadata": {},
     "output_type": "execute_result"
    }
   ],
   "source": [
    "array_files_csv"
   ]
  },
  {
   "cell_type": "code",
   "execution_count": 20,
   "id": "44a5e6ac",
   "metadata": {},
   "outputs": [],
   "source": [
    "def concatenateDatasets(array_to_concatenate):\n",
    "    dataset = 0\n",
    "    array = []\n",
    "    for velocidadeVia in array_to_concatenate:\n",
    "        dataset = pd.read_csv(velocidadeVia,sep='\\t')\n",
    "        array.append(dataset)\n",
    "    return pd.concat(array)"
   ]
  },
  {
   "cell_type": "code",
   "execution_count": 21,
   "id": "0cdbc192",
   "metadata": {},
   "outputs": [],
   "source": [
    "#Create an array with all data arrays\n",
    "dataFiles = concatenateDatasets(array_files_csv)"
   ]
  },
  {
   "cell_type": "code",
   "execution_count": 22,
   "id": "0f2e4138",
   "metadata": {},
   "outputs": [],
   "source": [
    "np.warnings.filterwarnings('error', category=np.VisibleDeprecationWarning)"
   ]
  },
  {
   "cell_type": "code",
   "execution_count": 23,
   "id": "7bd243fc",
   "metadata": {},
   "outputs": [],
   "source": [
    "dataFiles = dataFiles.drop('Unnamed: 0', axis=1)"
   ]
  },
  {
   "cell_type": "code",
   "execution_count": 24,
   "id": "a7d4d078",
   "metadata": {},
   "outputs": [],
   "source": [
    "# Create unique array with data\n",
    "# arr = np.concatenate(dataFiles)"
   ]
  },
  {
   "cell_type": "code",
   "execution_count": 25,
   "id": "954ee462",
   "metadata": {
    "scrolled": true
   },
   "outputs": [],
   "source": [
    "# arr"
   ]
  },
  {
   "cell_type": "code",
   "execution_count": 26,
   "id": "c66f3c33",
   "metadata": {},
   "outputs": [],
   "source": [
    "# Convert files to float\n",
    "# array_files = arr.astype(np.float)"
   ]
  },
  {
   "cell_type": "code",
   "execution_count": 27,
   "id": "be712ba3",
   "metadata": {
    "scrolled": true
   },
   "outputs": [],
   "source": [
    "# array_files"
   ]
  },
  {
   "cell_type": "code",
   "execution_count": 28,
   "id": "bbe2cfae",
   "metadata": {
    "scrolled": true
   },
   "outputs": [],
   "source": [
    "# array_files.size"
   ]
  },
  {
   "cell_type": "code",
   "execution_count": 29,
   "id": "8aed693a",
   "metadata": {},
   "outputs": [],
   "source": [
    "# array_to_be_par = array_files.tolist()"
   ]
  },
  {
   "cell_type": "code",
   "execution_count": 30,
   "id": "a10688ca",
   "metadata": {
    "scrolled": false
   },
   "outputs": [
    {
     "name": "stdout",
     "output_type": "stream",
     "text": [
      "Digite o valor da dimensão 2\n"
     ]
    }
   ],
   "source": [
    "dim = input(\"Digite o valor da dimensão \")"
   ]
  },
  {
   "cell_type": "code",
   "execution_count": 31,
   "id": "92f4e12e",
   "metadata": {
    "scrolled": true
   },
   "outputs": [],
   "source": [
    "dim = int(dim)"
   ]
  },
  {
   "cell_type": "code",
   "execution_count": 32,
   "id": "9ef15b01",
   "metadata": {},
   "outputs": [],
   "source": [
    "#Split array on dimension was inserted\n",
    "# def split(arr, size):\n",
    "#      arrs = []\n",
    "#      while len(arr) > size:\n",
    "#          pice = arr[:size]\n",
    "#          arrs.append(pice)\n",
    "#          arr   = arr[size:]\n",
    "#      arrs.append(arr)\n",
    "#      return arrs"
   ]
  },
  {
   "cell_type": "code",
   "execution_count": 33,
   "id": "1b6fe474",
   "metadata": {},
   "outputs": [],
   "source": [
    "# array_by_dim = split(array_to_be_par,dim)"
   ]
  },
  {
   "cell_type": "code",
   "execution_count": 34,
   "id": "114aa969",
   "metadata": {
    "scrolled": false
   },
   "outputs": [
    {
     "name": "stdout",
     "output_type": "stream",
     "text": [
      "Insira o tamanho do Dicionario (K): 4\n"
     ]
    }
   ],
   "source": [
    "k_value = input(\"Insira o tamanho do Dicionario (K): \")"
   ]
  },
  {
   "cell_type": "code",
   "execution_count": 35,
   "id": "0b015f9c",
   "metadata": {},
   "outputs": [],
   "source": [
    "k_value = int(k_value)"
   ]
  },
  {
   "cell_type": "code",
   "execution_count": 36,
   "id": "5e7958d7",
   "metadata": {},
   "outputs": [
    {
     "name": "stdout",
     "output_type": "stream",
     "text": [
      "Insira o Limiar de distorção: 0.00000001\n"
     ]
    }
   ],
   "source": [
    "limiar_dist = input(\"Insira o Limiar de distorção: \")"
   ]
  },
  {
   "cell_type": "code",
   "execution_count": 37,
   "id": "ccc82d6b",
   "metadata": {},
   "outputs": [],
   "source": [
    "limiar_dist = float(limiar_dist)"
   ]
  },
  {
   "cell_type": "code",
   "execution_count": 38,
   "id": "74b341f0",
   "metadata": {},
   "outputs": [],
   "source": [
    "# del array_by_dim[-1]"
   ]
  },
  {
   "cell_type": "code",
   "execution_count": 39,
   "id": "f2b8fe16",
   "metadata": {},
   "outputs": [],
   "source": [
    "# #Remove colchetes e retorna valor float\n",
    "# def convert_to_value(value):\n",
    "#     value = str(value)\n",
    "#     value = value[1:-1]\n",
    "#     value = float(value)\n",
    "#     return value"
   ]
  },
  {
   "cell_type": "code",
   "execution_count": 40,
   "id": "c85b0085",
   "metadata": {},
   "outputs": [],
   "source": [
    "# Cria as variaveis dinamicamente a partir da dimensao. Cria um array do x , y,z .... \n",
    "# def createVariables(sizeFiles):\n",
    "#     for i in range(sizeFiles):\n",
    "#         globals()[f\"array_{i}\"] = []"
   ]
  },
  {
   "cell_type": "code",
   "execution_count": 41,
   "id": "4c3e0b44",
   "metadata": {},
   "outputs": [],
   "source": [
    "# createVariables(dim)"
   ]
  },
  {
   "cell_type": "code",
   "execution_count": 42,
   "id": "393b4dcd",
   "metadata": {},
   "outputs": [],
   "source": [
    "# Seta os valores do x,y,z ...\n",
    "# posicion_array = 0\n",
    "# for i in array_by_dim:\n",
    "#     for a in range(dim):\n",
    "#         globals()[f\"array_{a}\"].append(convert_to_value(array_by_dim[posicion_array][a]))\n",
    "#     if(posicion_array <= len(array_by_dim)):\n",
    "#         posicion_array = posicion_array + 1\n",
    "#     else:\n",
    "#         break"
   ]
  },
  {
   "cell_type": "code",
   "execution_count": 43,
   "id": "45c18304",
   "metadata": {},
   "outputs": [],
   "source": [
    "# # Maior valor e menor que tem nos dados\n",
    "# import random\n",
    "# import re\n",
    "\n",
    "# maxValue = str(max(array_to_be_par))\n",
    "# minValue = str(min(array_to_be_par))\n",
    "# maxValue = re.sub(r\"[\\([{})\\]]\", \"\", maxValue)\n",
    "# minValue = re.sub(r\"[\\([{})\\]]\", \"\", minValue)\n",
    "# maxValue = float(maxValue)\n",
    "# minValue = float(minValue)"
   ]
  },
  {
   "cell_type": "code",
   "execution_count": 44,
   "id": "5cfcdd88",
   "metadata": {},
   "outputs": [],
   "source": [
    "# Cria os valores dos centroids\n",
    "# def createCentroidsPoints():\n",
    "#     value = str(random.choice(array_by_dim))\n",
    "#     value = re.sub(r\"[\\([{})\\]]\", \"\", value)\n",
    "#     arr = []\n",
    "#     arr.append(value)\n",
    "#     translation = {39: None}\n",
    "#     arr = str(arr).translate(translation)\n",
    "#     return arr"
   ]
  },
  {
   "cell_type": "code",
   "execution_count": 45,
   "id": "1721b0ea",
   "metadata": {},
   "outputs": [],
   "source": [
    "#colors = ['yellow','blue','red','pink', 'green', 'purple', 'grey', 'brown', 'orange','violet','lime','azure','plum','pink','indigo','tan','cyan']"
   ]
  },
  {
   "cell_type": "code",
   "execution_count": 46,
   "id": "20798993",
   "metadata": {
    "scrolled": true
   },
   "outputs": [],
   "source": [
    "#dataTest = pd.DataFrame(columns=[])\n",
    "#dataTest['par_ordenado'] = \"[\"+dataFiles['x'].astype(str) + \",\" + dataFiles['y'].astype(str) + \"]\"\n",
    "#dataTest['par_ordenado']"
   ]
  },
  {
   "cell_type": "code",
   "execution_count": 47,
   "id": "9363a2ea",
   "metadata": {
    "scrolled": false
   },
   "outputs": [],
   "source": [
    "# K means initialization\n",
    "# import random\n",
    "# import re\n",
    "# import pandas as pd\n",
    "# import numpy as np\n",
    "# import matplotlib.pyplot as plt\n",
    "# %matplotlib inline\n",
    "# import json\n",
    "\n",
    "# np.random.seed(200)\n",
    "# k = k_value\n",
    "\n",
    "# par_ordenado = dataTest['par_ordenado'].to_numpy()\n",
    "# print(tuple(float(x[0]) for x in par_ordenado))\n",
    "\n",
    "\n",
    "# centroids = {\n",
    "#     i+1: random.choice(list(dataTest['par_ordenado']))\n",
    "#     for i in range(k)\n",
    "# }\n",
    "\n",
    "# for i in centroids.keys():\n",
    "#     centroids[i] = float(centroids[i])\n",
    "\n",
    "# print(centroids)\n",
    "\n",
    "# import io, json\n",
    "\n",
    "# with io.open('centroidsRead.json', 'w', encoding='utf-8') as f:\n",
    "#   f.write(json.dumps(centroids, ensure_ascii=False))\n",
    "\n",
    "# if(dim ==2):\n",
    "#     fig = plt.figure(figsize=(5, 5))\n",
    "#     plt.scatter(dataFiles['x'],dataFiles['y'],color='k')\n",
    "#     for i in centroids.keys():\n",
    "#         plt.scatter(*centroids[i], color=colors[i],edgecolors='black',s=100)\n",
    "#     plt.show()"
   ]
  },
  {
   "cell_type": "code",
   "execution_count": 48,
   "id": "37ae47aa",
   "metadata": {
    "scrolled": false
   },
   "outputs": [],
   "source": [
    "# Cria as colunas no dataset (tabela)\n",
    "# import pandas as pd\n",
    "\n",
    "# df = pd.DataFrame(columns=[])\n",
    "# df = dataFiles\n",
    "# df = df.rename(columns={'x':'0','y':'1'})\n",
    "# for i in range(dim):\n",
    "#     df[i] = globals()[f\"array_{i}\"]"
   ]
  },
  {
   "cell_type": "code",
   "execution_count": 49,
   "id": "599c926a",
   "metadata": {
    "scrolled": true
   },
   "outputs": [],
   "source": [
    "## Assignment Stage\n",
    "\n",
    "# def assignment(df, centroids):\n",
    "#     for i in centroids.keys():\n",
    "#         # (x1 - x2)² + (y1 - y2)²\n",
    "#         for a in range(dim):\n",
    "#             value = 0\n",
    "#             value = (df[f\"{a}\"] - centroids[i][a]) ** 2 + value\n",
    "#         df['distance_from_{}'.format(i)] = value\n",
    "#     centroid_distance_cols = ['distance_from_{}'.format(i) for i in centroids.keys()]\n",
    "#     df['closest'] = df.loc[:, centroid_distance_cols].idxmin(axis=1)\n",
    "#     df['closest'] = df['closest'].map(lambda x: int(x.lstrip('distance_from_')))\n",
    "#     df['color'] = df['closest'].map(lambda x: colors[x])\n",
    "#     return df\n",
    "\n",
    "# df = assignment(df, centroids)\n",
    "\n",
    "# if(dim == 2): \n",
    "#     fig = plt.figure(figsize=(5,5))\n",
    "#     img = plt.scatter(df['0'], df['1'],color=df['color'],alpha=0.5,edgecolor='k')\n",
    "#     for i in centroids.keys():\n",
    "#         plt.scatter(*centroids[i], color=colors[i],s=100,edgecolor='black')\n",
    "#     plt.show()\n"
   ]
  },
  {
   "cell_type": "code",
   "execution_count": 50,
   "id": "1841d4c0",
   "metadata": {
    "scrolled": false
   },
   "outputs": [],
   "source": [
    "## Update Centroid Value Stage\n",
    "\n",
    "# import copy\n",
    "\n",
    "# old_centroids = copy.deepcopy(centroids)\n",
    "\n",
    "# def update(k):\n",
    "#     for i in centroids.keys():\n",
    "#         for a in range(dim):\n",
    "#             centroids[i][a] = np.mean(df[df['closest'] == i][f\"{a}\"])\n",
    "#     return k\n",
    "    \n",
    "# centroids = update(centroids)"
   ]
  },
  {
   "cell_type": "code",
   "execution_count": 51,
   "id": "523fc651",
   "metadata": {
    "scrolled": true
   },
   "outputs": [],
   "source": [
    "## Repeat Assigment Stage\n",
    "\n",
    "#df = assignment(df, centroids)\n",
    "\n",
    "# Plot Results\n",
    "# if(dim == 2):\n",
    "#     fig = plt.figure(figsize=(5,5))\n",
    "#     plt.scatter(df['0'], df['1'], color=df['color'], alpha=0.5, edgecolor='k')\n",
    "#     for i in centroids.keys():\n",
    "#         plt.scatter(*centroids[i], color=colors[i],s=100,edgecolor='black')\n",
    "# #     plt.xlim(minValue, maxValue)\n",
    "# #     plt.ylim(minValue, maxValue)\n",
    "#     plt.show()"
   ]
  },
  {
   "cell_type": "code",
   "execution_count": 52,
   "id": "a2aa8b03",
   "metadata": {
    "scrolled": true
   },
   "outputs": [],
   "source": [
    "## Continue until assigned categories don't change any more\n",
    "# a = 0\n",
    "# while True:\n",
    "#     a = a + 1\n",
    "#     closest_centroids = df['closest'].copy(deep=True)\n",
    "#     for i in closest_centroids:\n",
    "#         df['old_value'] = df['distance_from_{}'.format(i)]\n",
    "#     centroids = update(centroids)\n",
    "#     df = assignment(df, centroids)\n",
    "#     current_centroids = df['closest'].copy(deep=True)\n",
    "#     for i in current_centroids:\n",
    "#         df['current_value'] = df['distance_from_{}'.format(i)]\n",
    "#     delta = (np.sum(df['old_value']) - np.sum(df['current_value']))/(np.sum(df['old_value']))\n",
    "#     if delta <= limiar_dist: \n",
    "#         break\n",
    "# num_int = a        \n",
    "# fig = plt.figure(figsize=(5, 5 ))\n",
    "# # plt.scatter(df['0'], df['1'], color=df['color'], alpha=0.5, edgecolor='k')\n",
    "# for i in centroids.keys():\n",
    "#     plt.scatter(*centroids[i], color=colors[i],s=100,edgecolor='black')\n",
    "# # plt.xlim(minValue, maxValue)\n",
    "# # plt.ylim(minValue, maxValue)\n",
    "# plt.show()"
   ]
  },
  {
   "cell_type": "code",
   "execution_count": 76,
   "id": "331b481c",
   "metadata": {},
   "outputs": [
    {
     "name": "stderr",
     "output_type": "stream",
     "text": [
      "/var/folders/fv/x41ycbt90h32gfd99whzspmw0000gn/T/ipykernel_1709/3213780402.py:41: PerformanceWarning: DataFrame is highly fragmented.  This is usually the result of calling `frame.insert` many times, which has poor performance.  Consider joining all columns at once using pd.concat(axis=1) instead.  To get a de-fragmented frame, use `newframe = frame.copy()`\n",
      "  df['distance_from_{}'.format(i)] = value\n"
     ]
    }
   ],
   "source": [
    "## K means initialization\n",
    "import random\n",
    "import re\n",
    "import pandas as pd\n",
    "import numpy as np\n",
    "import json\n",
    "import matplotlib.pyplot as plt\n",
    "%matplotlib inline\n",
    "\n",
    "r = 1\n",
    "\n",
    "#centroidsIniciais=[]\n",
    "centroidsFinal=[]\n",
    "numero_iteracoes=[]\n",
    "mse=[]\n",
    "starter_cent = []\n",
    "\n",
    "while r <= 30:\n",
    "\n",
    "#     np.random.seed(200)\n",
    "    k = k_value\n",
    "\n",
    "# Gera centroids a partir dos pontos do conj de treino    \n",
    "    centroids = {\n",
    "        i+1: [random.choice(dataFiles['x'].to_numpy()),random.choice(dataFiles['y'].to_numpy())]\n",
    "        for i in range(k)\n",
    "        }\n",
    "    starter_cent.append(centroids) #centroides iniciais p usar no accelerate kmeans\n",
    "\n",
    "    import pandas as pd\n",
    "\n",
    "    df = pd.DataFrame(columns=[])\n",
    "    df = dataFiles\n",
    "    df = df.rename(columns={'x':'0','y':'1'}) jupyter \n",
    "\n",
    "    def assignment(df, centroids):\n",
    "        for i in centroids.keys():\n",
    "            value = 0\n",
    "            # (x1 - x2)² + (y1 - y2)²\n",
    "            for a in range(dim):\n",
    "                value = (df[f\"{a}\"] - centroids[i][a]) ** 2 + value\n",
    "            df['distance_from_{}'.format(i)] = value\n",
    "        centroid_distance_cols = ['distance_from_{}'.format(i) for i in centroids.keys()]\n",
    "        df['closest'] = df.loc[:, centroid_distance_cols].idxmin(axis=1)\n",
    "        df['closest'] = df['closest'].map(lambda x: int(x.lstrip('distance_from_')))\n",
    "#         df['color'] = df['closest'].map(lambda x: colors[x])\n",
    "        return df\n",
    "\n",
    "    df = assignment(df, centroids)\n",
    "    \n",
    "    \n",
    "    \n",
    "    import copy\n",
    "\n",
    "    # old_centroids = copy.deepcopy(centroids)\n",
    "\n",
    "    def update(k):\n",
    "        for i in centroids.keys():\n",
    "            for a in range(dim):\n",
    "                centroids[i][a] = np.mean(df[df['closest'] == i][f\"{a}\"])\n",
    "        return k\n",
    "\n",
    "    centroids = update(centroids)\n",
    "\n",
    "    df = assignment(df, centroids)\n",
    "\n",
    "    a = 0\n",
    "    while True:\n",
    "        a = a + 1\n",
    "        closest_centroids = df['closest'].copy(deep=True)\n",
    "        for i in closest_centroids:\n",
    "            df['old_value'] = df['distance_from_{}'.format(i)]\n",
    "        centroids = update(centroids)\n",
    "        df = assignment(df, centroids)\n",
    "        current_centroids = df['closest'].copy(deep=True)\n",
    "        for i in current_centroids:\n",
    "            df['current_value'] = df['distance_from_{}'.format(i)]\n",
    "        delta = (np.sum(df['old_value']) - np.sum(df['current_value']))/(np.sum(df['old_value']))\n",
    "        if delta <= limiar_dist: \n",
    "            break\n",
    "    num_int = a        \n",
    "\n",
    "    old_df = df\n",
    "    old_df = old_df.drop(['0','1','closest','old_value','current_value'], axis=1)\n",
    "    for i in centroids.keys():\n",
    "        old_df = old_df.rename(columns={f\"distance_from_{i}\":f\"{i}\"})    \n",
    "    new_df = pd.DataFrame(columns=['new_data_with_centroids'])\n",
    "    def reconstrucao():\n",
    "        arr = []\n",
    "        valueCentroidMin = old_df.idxmin(axis=1)\n",
    "        valueCentroidMin = np.array(valueCentroidMin)\n",
    "        for i in valueCentroidMin:\n",
    "            arr.append(centroids[int(i)])\n",
    "        new_df['new_data_with_centroids'] = arr\n",
    "\n",
    "    reconstrucao()\n",
    "\n",
    "    new_df['old_data_x'] = dataFiles['x'].to_numpy()\n",
    "    new_df['old_data_y'] = dataFiles['y'].to_numpy()\n",
    "\n",
    "    array_x = []\n",
    "    array_y = []\n",
    "    for i in new_df['new_data_with_centroids']:\n",
    "        array_x.append(i[0])\n",
    "        array_y.append(i[1])\n",
    "    new_df['x_new'] = array_x\n",
    "    new_df['y_new'] = array_y\n",
    "    new_df = new_df.drop(['new_data_with_centroids'], axis=1)\n",
    "\n",
    "    # new_df\n",
    "\n",
    "    a = 0\n",
    "    MSE = 0\n",
    "    new_value = [*new_df['x_new'].to_numpy() , *new_df['y_new'].to_numpy()] \n",
    "    old_value = [*new_df['old_data_x'].to_numpy() , *new_df['old_data_y'].to_numpy()]\n",
    "    for i in new_value:\n",
    "        MSE = (i - old_value[a]) **2 + MSE  \n",
    "        a = a + 1\n",
    "    MSE = MSE / len(new_value) \n",
    "    dataFrameFinal = pd.DataFrame(columns=[])\n",
    "\n",
    "    centroidsFinal.append(json.dumps(centroids))\n",
    "    numero_iteracoes.append(num_int)\n",
    "    mse.append(MSE)\n",
    "\n",
    "    r = r + 1\n",
    "\n",
    "dataFrameFinal['MSE'] = mse\n",
    "dataFrameFinal['centroidsInicial'] = starter_cent\n",
    "dataFrameFinal['centroidsFinal'] = centroidsFinal\n",
    "dataFrameFinal['NInteracoes'] = numero_iteracoes\n",
    "\n",
    "dataFrameFinal.to_csv('Circles/tabela_final_Kmeans_64.csv')\n",
    "\n",
    "import pickle\n",
    "\n",
    "with open(\"Circles/inicialCentroids_64.txt\", \"wb\") as fp:   #Pickling\n",
    "    pickle.dump(starter_cent, fp)"
   ]
  },
  {
   "cell_type": "code",
   "execution_count": 77,
   "id": "eeaa024a",
   "metadata": {
    "scrolled": true
   },
   "outputs": [
    {
     "data": {
      "text/html": [
       "<div>\n",
       "<style scoped>\n",
       "    .dataframe tbody tr th:only-of-type {\n",
       "        vertical-align: middle;\n",
       "    }\n",
       "\n",
       "    .dataframe tbody tr th {\n",
       "        vertical-align: top;\n",
       "    }\n",
       "\n",
       "    .dataframe thead th {\n",
       "        text-align: right;\n",
       "    }\n",
       "</style>\n",
       "<table border=\"1\" class=\"dataframe\">\n",
       "  <thead>\n",
       "    <tr style=\"text-align: right;\">\n",
       "      <th></th>\n",
       "      <th>MSE</th>\n",
       "      <th>centroidsInicial</th>\n",
       "      <th>centroidsFinal</th>\n",
       "      <th>NInteracoes</th>\n",
       "    </tr>\n",
       "  </thead>\n",
       "  <tbody>\n",
       "    <tr>\n",
       "      <th>0</th>\n",
       "      <td>0.012329</td>\n",
       "      <td>{1: [0.9012605800397154, -0.991213789574172], ...</td>\n",
       "      <td>{\"1\": [0.9012605800397154, -0.991213789574172]...</td>\n",
       "      <td>1</td>\n",
       "    </tr>\n",
       "    <tr>\n",
       "      <th>1</th>\n",
       "      <td>0.012137</td>\n",
       "      <td>{1: [-0.4747518553373868, 0.5431448392752893],...</td>\n",
       "      <td>{\"1\": [-0.4747518553373868, 0.5431448392752893...</td>\n",
       "      <td>1</td>\n",
       "    </tr>\n",
       "    <tr>\n",
       "      <th>2</th>\n",
       "      <td>0.012208</td>\n",
       "      <td>{1: [-0.4955843337977382, 0.217799871605302], ...</td>\n",
       "      <td>{\"1\": [-0.4955843337977382, 0.217799871605302]...</td>\n",
       "      <td>1</td>\n",
       "    </tr>\n",
       "    <tr>\n",
       "      <th>3</th>\n",
       "      <td>0.011980</td>\n",
       "      <td>{1: [0.9006786036850525, -0.8140519127894182],...</td>\n",
       "      <td>{\"1\": [0.9006786036850525, -0.8140519127894182...</td>\n",
       "      <td>1</td>\n",
       "    </tr>\n",
       "    <tr>\n",
       "      <th>4</th>\n",
       "      <td>0.012066</td>\n",
       "      <td>{1: [0.8980689748205664, -0.8696729032012568],...</td>\n",
       "      <td>{\"1\": [0.8980689748205664, -0.8696729032012568...</td>\n",
       "      <td>1</td>\n",
       "    </tr>\n",
       "    <tr>\n",
       "      <th>5</th>\n",
       "      <td>0.012299</td>\n",
       "      <td>{1: [-0.7313440803855497, 0.4766851699927158],...</td>\n",
       "      <td>{\"1\": [-0.7313440803855497, 0.4766851699927158...</td>\n",
       "      <td>1</td>\n",
       "    </tr>\n",
       "    <tr>\n",
       "      <th>6</th>\n",
       "      <td>0.012074</td>\n",
       "      <td>{1: [-0.660268463054122, 0.4769629953897302], ...</td>\n",
       "      <td>{\"1\": [-0.660268463054122, 0.4769629953897302]...</td>\n",
       "      <td>3</td>\n",
       "    </tr>\n",
       "    <tr>\n",
       "      <th>7</th>\n",
       "      <td>0.012018</td>\n",
       "      <td>{1: [-0.5948618062097931, 0.25360959864033034]...</td>\n",
       "      <td>{\"1\": [-0.5948618062097931, 0.2536095986403303...</td>\n",
       "      <td>2</td>\n",
       "    </tr>\n",
       "    <tr>\n",
       "      <th>8</th>\n",
       "      <td>0.012301</td>\n",
       "      <td>{1: [0.8933700497056396, -0.8776547701036043],...</td>\n",
       "      <td>{\"1\": [0.8933700497056396, -0.8776547701036043...</td>\n",
       "      <td>1</td>\n",
       "    </tr>\n",
       "    <tr>\n",
       "      <th>9</th>\n",
       "      <td>0.012145</td>\n",
       "      <td>{1: [-0.6542923389478142, 0.771468883895066], ...</td>\n",
       "      <td>{\"1\": [-0.6542923389478142, 0.771468883895066]...</td>\n",
       "      <td>2</td>\n",
       "    </tr>\n",
       "    <tr>\n",
       "      <th>10</th>\n",
       "      <td>0.011854</td>\n",
       "      <td>{1: [-0.7565949498910117, 0.8991398184643837],...</td>\n",
       "      <td>{\"1\": [-0.7565949498910117, 0.8991398184643837...</td>\n",
       "      <td>7</td>\n",
       "    </tr>\n",
       "    <tr>\n",
       "      <th>11</th>\n",
       "      <td>0.012108</td>\n",
       "      <td>{1: [-0.6911703578602538, 0.6620308308217684],...</td>\n",
       "      <td>{\"1\": [-0.6911703578602538, 0.6620308308217684...</td>\n",
       "      <td>1</td>\n",
       "    </tr>\n",
       "    <tr>\n",
       "      <th>12</th>\n",
       "      <td>0.012084</td>\n",
       "      <td>{1: [0.9011366575456095, -0.9091284715306653],...</td>\n",
       "      <td>{\"1\": [0.9011366575456095, -0.9091284715306653...</td>\n",
       "      <td>4</td>\n",
       "    </tr>\n",
       "    <tr>\n",
       "      <th>13</th>\n",
       "      <td>0.012102</td>\n",
       "      <td>{1: [0.8922126294087229, -0.848594942137354], ...</td>\n",
       "      <td>{\"1\": [0.8922126294087229, -0.848594942137354]...</td>\n",
       "      <td>1</td>\n",
       "    </tr>\n",
       "    <tr>\n",
       "      <th>14</th>\n",
       "      <td>0.012048</td>\n",
       "      <td>{1: [-0.8922306795638852, 0.5456709106718581],...</td>\n",
       "      <td>{\"1\": [-0.8922306795638852, 0.5456709106718581...</td>\n",
       "      <td>1</td>\n",
       "    </tr>\n",
       "    <tr>\n",
       "      <th>15</th>\n",
       "      <td>0.011825</td>\n",
       "      <td>{1: [0.8893360517332372, -0.8720897444200943],...</td>\n",
       "      <td>{\"1\": [0.8893360517332372, -0.8720897444200943...</td>\n",
       "      <td>2</td>\n",
       "    </tr>\n",
       "    <tr>\n",
       "      <th>16</th>\n",
       "      <td>0.012156</td>\n",
       "      <td>{1: [-0.5784745691933718, 0.5935823693978166],...</td>\n",
       "      <td>{\"1\": [-0.5784745691933718, 0.5935823693978166...</td>\n",
       "      <td>1</td>\n",
       "    </tr>\n",
       "    <tr>\n",
       "      <th>17</th>\n",
       "      <td>0.012222</td>\n",
       "      <td>{1: [0.9032858088133476, -0.8476112531452754],...</td>\n",
       "      <td>{\"1\": [0.9032858088133476, -0.8476112531452754...</td>\n",
       "      <td>3</td>\n",
       "    </tr>\n",
       "    <tr>\n",
       "      <th>18</th>\n",
       "      <td>0.011871</td>\n",
       "      <td>{1: [-0.718818529247161, 0.7823370037678711], ...</td>\n",
       "      <td>{\"1\": [-0.718818529247161, 0.7823370037678711]...</td>\n",
       "      <td>4</td>\n",
       "    </tr>\n",
       "    <tr>\n",
       "      <th>19</th>\n",
       "      <td>0.012023</td>\n",
       "      <td>{1: [-0.5731682839931009, 0.4706802542171138],...</td>\n",
       "      <td>{\"1\": [-0.5731682839931009, 0.4706802542171138...</td>\n",
       "      <td>2</td>\n",
       "    </tr>\n",
       "    <tr>\n",
       "      <th>20</th>\n",
       "      <td>0.012309</td>\n",
       "      <td>{1: [-0.5830006931378102, 0.3879247204206875],...</td>\n",
       "      <td>{\"1\": [-0.5830006931378102, 0.3879247204206875...</td>\n",
       "      <td>1</td>\n",
       "    </tr>\n",
       "    <tr>\n",
       "      <th>21</th>\n",
       "      <td>0.012129</td>\n",
       "      <td>{1: [-0.6146279960788374, 0.40821481051243796]...</td>\n",
       "      <td>{\"1\": [-0.6146279960788374, 0.4082148105124379...</td>\n",
       "      <td>1</td>\n",
       "    </tr>\n",
       "    <tr>\n",
       "      <th>22</th>\n",
       "      <td>0.012294</td>\n",
       "      <td>{1: [0.9011000783608056, -0.9400860109720466],...</td>\n",
       "      <td>{\"1\": [0.9011000783608056, -0.9400860109720466...</td>\n",
       "      <td>1</td>\n",
       "    </tr>\n",
       "    <tr>\n",
       "      <th>23</th>\n",
       "      <td>0.012029</td>\n",
       "      <td>{1: [-0.6540364494855143, 0.6126987812938358],...</td>\n",
       "      <td>{\"1\": [-0.6540364494855143, 0.6126987812938358...</td>\n",
       "      <td>1</td>\n",
       "    </tr>\n",
       "    <tr>\n",
       "      <th>24</th>\n",
       "      <td>0.012106</td>\n",
       "      <td>{1: [-0.5935989989006785, 0.6510434959290405],...</td>\n",
       "      <td>{\"1\": [-0.5935989989006785, 0.6510434959290405...</td>\n",
       "      <td>1</td>\n",
       "    </tr>\n",
       "    <tr>\n",
       "      <th>25</th>\n",
       "      <td>0.011987</td>\n",
       "      <td>{1: [-0.594024017048005, 0.822996505539867], 2...</td>\n",
       "      <td>{\"1\": [-0.594024017048005, 0.822996505539867],...</td>\n",
       "      <td>2</td>\n",
       "    </tr>\n",
       "    <tr>\n",
       "      <th>26</th>\n",
       "      <td>0.012285</td>\n",
       "      <td>{1: [-0.6051049304593523, 0.6279759928276506],...</td>\n",
       "      <td>{\"1\": [-0.6051049304593523, 0.6279759928276506...</td>\n",
       "      <td>1</td>\n",
       "    </tr>\n",
       "    <tr>\n",
       "      <th>27</th>\n",
       "      <td>0.011999</td>\n",
       "      <td>{1: [-0.718818529247161, 0.7823370037678711], ...</td>\n",
       "      <td>{\"1\": [-0.718818529247161, 0.7823370037678711]...</td>\n",
       "      <td>2</td>\n",
       "    </tr>\n",
       "    <tr>\n",
       "      <th>28</th>\n",
       "      <td>0.011988</td>\n",
       "      <td>{1: [-0.5879914772004452, 0.40831861696275823]...</td>\n",
       "      <td>{\"1\": [-0.5879914772004452, 0.4083186169627582...</td>\n",
       "      <td>4</td>\n",
       "    </tr>\n",
       "    <tr>\n",
       "      <th>29</th>\n",
       "      <td>0.011959</td>\n",
       "      <td>{1: [0.8845782553135632, -0.874446571691319], ...</td>\n",
       "      <td>{\"1\": [0.8845782553135632, -0.874446571691319]...</td>\n",
       "      <td>4</td>\n",
       "    </tr>\n",
       "  </tbody>\n",
       "</table>\n",
       "</div>"
      ],
      "text/plain": [
       "         MSE                                   centroidsInicial  \\\n",
       "0   0.012329  {1: [0.9012605800397154, -0.991213789574172], ...   \n",
       "1   0.012137  {1: [-0.4747518553373868, 0.5431448392752893],...   \n",
       "2   0.012208  {1: [-0.4955843337977382, 0.217799871605302], ...   \n",
       "3   0.011980  {1: [0.9006786036850525, -0.8140519127894182],...   \n",
       "4   0.012066  {1: [0.8980689748205664, -0.8696729032012568],...   \n",
       "5   0.012299  {1: [-0.7313440803855497, 0.4766851699927158],...   \n",
       "6   0.012074  {1: [-0.660268463054122, 0.4769629953897302], ...   \n",
       "7   0.012018  {1: [-0.5948618062097931, 0.25360959864033034]...   \n",
       "8   0.012301  {1: [0.8933700497056396, -0.8776547701036043],...   \n",
       "9   0.012145  {1: [-0.6542923389478142, 0.771468883895066], ...   \n",
       "10  0.011854  {1: [-0.7565949498910117, 0.8991398184643837],...   \n",
       "11  0.012108  {1: [-0.6911703578602538, 0.6620308308217684],...   \n",
       "12  0.012084  {1: [0.9011366575456095, -0.9091284715306653],...   \n",
       "13  0.012102  {1: [0.8922126294087229, -0.848594942137354], ...   \n",
       "14  0.012048  {1: [-0.8922306795638852, 0.5456709106718581],...   \n",
       "15  0.011825  {1: [0.8893360517332372, -0.8720897444200943],...   \n",
       "16  0.012156  {1: [-0.5784745691933718, 0.5935823693978166],...   \n",
       "17  0.012222  {1: [0.9032858088133476, -0.8476112531452754],...   \n",
       "18  0.011871  {1: [-0.718818529247161, 0.7823370037678711], ...   \n",
       "19  0.012023  {1: [-0.5731682839931009, 0.4706802542171138],...   \n",
       "20  0.012309  {1: [-0.5830006931378102, 0.3879247204206875],...   \n",
       "21  0.012129  {1: [-0.6146279960788374, 0.40821481051243796]...   \n",
       "22  0.012294  {1: [0.9011000783608056, -0.9400860109720466],...   \n",
       "23  0.012029  {1: [-0.6540364494855143, 0.6126987812938358],...   \n",
       "24  0.012106  {1: [-0.5935989989006785, 0.6510434959290405],...   \n",
       "25  0.011987  {1: [-0.594024017048005, 0.822996505539867], 2...   \n",
       "26  0.012285  {1: [-0.6051049304593523, 0.6279759928276506],...   \n",
       "27  0.011999  {1: [-0.718818529247161, 0.7823370037678711], ...   \n",
       "28  0.011988  {1: [-0.5879914772004452, 0.40831861696275823]...   \n",
       "29  0.011959  {1: [0.8845782553135632, -0.874446571691319], ...   \n",
       "\n",
       "                                       centroidsFinal  NInteracoes  \n",
       "0   {\"1\": [0.9012605800397154, -0.991213789574172]...            1  \n",
       "1   {\"1\": [-0.4747518553373868, 0.5431448392752893...            1  \n",
       "2   {\"1\": [-0.4955843337977382, 0.217799871605302]...            1  \n",
       "3   {\"1\": [0.9006786036850525, -0.8140519127894182...            1  \n",
       "4   {\"1\": [0.8980689748205664, -0.8696729032012568...            1  \n",
       "5   {\"1\": [-0.7313440803855497, 0.4766851699927158...            1  \n",
       "6   {\"1\": [-0.660268463054122, 0.4769629953897302]...            3  \n",
       "7   {\"1\": [-0.5948618062097931, 0.2536095986403303...            2  \n",
       "8   {\"1\": [0.8933700497056396, -0.8776547701036043...            1  \n",
       "9   {\"1\": [-0.6542923389478142, 0.771468883895066]...            2  \n",
       "10  {\"1\": [-0.7565949498910117, 0.8991398184643837...            7  \n",
       "11  {\"1\": [-0.6911703578602538, 0.6620308308217684...            1  \n",
       "12  {\"1\": [0.9011366575456095, -0.9091284715306653...            4  \n",
       "13  {\"1\": [0.8922126294087229, -0.848594942137354]...            1  \n",
       "14  {\"1\": [-0.8922306795638852, 0.5456709106718581...            1  \n",
       "15  {\"1\": [0.8893360517332372, -0.8720897444200943...            2  \n",
       "16  {\"1\": [-0.5784745691933718, 0.5935823693978166...            1  \n",
       "17  {\"1\": [0.9032858088133476, -0.8476112531452754...            3  \n",
       "18  {\"1\": [-0.718818529247161, 0.7823370037678711]...            4  \n",
       "19  {\"1\": [-0.5731682839931009, 0.4706802542171138...            2  \n",
       "20  {\"1\": [-0.5830006931378102, 0.3879247204206875...            1  \n",
       "21  {\"1\": [-0.6146279960788374, 0.4082148105124379...            1  \n",
       "22  {\"1\": [0.9011000783608056, -0.9400860109720466...            1  \n",
       "23  {\"1\": [-0.6540364494855143, 0.6126987812938358...            1  \n",
       "24  {\"1\": [-0.5935989989006785, 0.6510434959290405...            1  \n",
       "25  {\"1\": [-0.594024017048005, 0.822996505539867],...            2  \n",
       "26  {\"1\": [-0.6051049304593523, 0.6279759928276506...            1  \n",
       "27  {\"1\": [-0.718818529247161, 0.7823370037678711]...            2  \n",
       "28  {\"1\": [-0.5879914772004452, 0.4083186169627582...            4  \n",
       "29  {\"1\": [0.8845782553135632, -0.874446571691319]...            4  "
      ]
     },
     "execution_count": 77,
     "metadata": {},
     "output_type": "execute_result"
    }
   ],
   "source": [
    "dataFrameFinal"
   ]
  },
  {
   "cell_type": "code",
   "execution_count": 78,
   "id": "023fa5c2",
   "metadata": {},
   "outputs": [],
   "source": [
    "value_test = json.loads(dataFrameFinal['centroidsFinal'][0])"
   ]
  },
  {
   "cell_type": "code",
   "execution_count": 79,
   "id": "d0121ab3",
   "metadata": {},
   "outputs": [
    {
     "data": {
      "image/png": "[encoded data removed]",
      "text/plain": [
       "<Figure size 360x360 with 1 Axes>"
      ]
     },
     "metadata": {
      "needs_background": "light"
     },
     "output_type": "display_data"
    }
   ],
   "source": [
    "fig = plt.figure(figsize=(5,5))\n",
    "# img = plt.scatter(df['0'], df['1'],color='yellow',alpha=0.5,edgecolor='k')\n",
    "for i in value_test.keys():\n",
    "    plt.scatter(*value_test[i],color='black',s=100,edgecolor='white')\n",
    "plt.show()"
   ]
  },
  {
   "cell_type": "code",
   "execution_count": 71,
   "id": "a3dd2877",
   "metadata": {},
   "outputs": [
    {
     "data": {
      "text/plain": [
       "dict_keys(['1', '2', '3', '4', '5', '6', '7', '8', '9', '10', '11', '12', '13', '14', '15', '16', '17', '18', '19', '20', '21', '22', '23', '24', '25', '26', '27', '28', '29', '30', '31', '32', '33', '34', '35', '36', '37', '38', '39', '40', '41', '42', '43', '44', '45', '46', '47', '48', '49', '50', '51', '52', '53', '54', '55', '56', '57', '58', '59', '60', '61', '62', '63', '64'])"
      ]
     },
     "execution_count": 71,
     "metadata": {},
     "output_type": "execute_result"
    }
   ],
   "source": [
    "value_test.keys()"
   ]
  },
  {
   "cell_type": "code",
   "execution_count": 67,
   "id": "23c30ab4",
   "metadata": {},
   "outputs": [
    {
     "data": {
      "text/plain": [
       "{'1': [-0.6177388139266344, 0.24730592037943683],\n",
       " '2': [-0.6125658999481025, 0.43380917951994663],\n",
       " '3': [-0.6207540909867514, 0.7880010791732107],\n",
       " '4': [0.9211774224217645, -0.8646800695153579],\n",
       " '5': [-0.5653319787529737, 0.5363056674508615],\n",
       " '6': [0.8907191977678701, -0.9943953231281194],\n",
       " '7': [-0.6206404699433882, 0.4945906209980019],\n",
       " '8': [-0.6103421742667922, 0.22028128403479347],\n",
       " '9': [-0.6076215250566765, 0.8729451269351896],\n",
       " '10': [0.8988065048557384, -0.8321556190474985],\n",
       " '11': [-0.5761315871916799, 0.6463108916487352],\n",
       " '12': [0.8849861157116578, -0.8566806241400023],\n",
       " '13': [0.9026319023556232, -0.9797502681546854],\n",
       " '14': [-0.6252297087379475, 0.8185756130213179],\n",
       " '15': [-0.5506142883363457, 0.4645667303946131],\n",
       " '16': [-0.6067397327678675, 0.5081374175185972],\n",
       " '17': [0.903235071597469, -0.9331515709421584],\n",
       " '18': [-0.6539451627553642, 0.666081952406634],\n",
       " '19': [0.9040203707035442, -0.869699999834284],\n",
       " '20': [0.8941435042893201, -0.8746198065487921],\n",
       " '21': [0.8993204341406353, -0.8465585734940374],\n",
       " '22': [0.9137037894194922, -0.8872329356793432],\n",
       " '23': [0.9018262891587668, -0.881458596747607],\n",
       " '24': [-0.620557228221906, 0.34184258098724457],\n",
       " '25': [-0.5790936651859964, 0.40758654741659356],\n",
       " '26': [-0.6288103473372335, 0.4812525920199682],\n",
       " '27': [-0.6324546554100192, 0.5287975510488477],\n",
       " '28': [-0.601755189517294, 0.9312270765166196],\n",
       " '29': [0.8976308284636474, -0.9652093700736754],\n",
       " '30': [-0.6465937929097312, 0.3656846741478247],\n",
       " '31': [-0.592844693024359, 0.5723151812753595],\n",
       " '32': [-0.6305217479511254, 0.6100374760696491],\n",
       " '33': [0.8992092121629657, -0.9127556073101472],\n",
       " '34': [0.8969137751674461, -0.972609803259294],\n",
       " '35': [-0.6296907446651865, 0.31869255716646006],\n",
       " '36': [-0.6484209419525904, 0.9041603287669002],\n",
       " '37': [0.8896480609984405, -0.9557635697679454],\n",
       " '38': [0.8950657176895594, -0.9873485037626598],\n",
       " '39': [-0.5910242546956681, 0.9617015513312717],\n",
       " '40': [-0.6024493196731472, 0.3843692408531689],\n",
       " '41': [-0.63080347084014, 0.26876971011967343],\n",
       " '42': [-0.5817659060017001, 0.7139493988532912],\n",
       " '43': [-0.5839835128219053, 0.6249601455007648],\n",
       " '44': [-0.6005291035230645, 0.37176126153006517],\n",
       " '45': [-0.556897634204467, 0.8309030757500461],\n",
       " '46': [-0.5852038123069703, 0.9811990049988397],\n",
       " '47': [-0.5747187998183276, 0.7645857663380219],\n",
       " '48': [0.8945406687912442, -0.8964990931781013],\n",
       " '49': [-0.5505300184198256, 0.8473622849836363],\n",
       " '50': [0.8958411606259341, -0.8135099128597261],\n",
       " '51': [-0.5647379042055182, 0.5521175608113904],\n",
       " '52': [-0.6045162124102567, 0.29432973983765437],\n",
       " '53': [-0.6098582006038623, 0.5190243287666043],\n",
       " '54': [-0.6129480483851889, 0.7393199758919263],\n",
       " '55': [-0.6056706460178348, 0.8071050584645483],\n",
       " '56': [-0.5965699906667475, 0.918661325128675],\n",
       " '57': [0.9163889790327765, -0.9594958574247205],\n",
       " '58': [-0.5450081818544746, 0.5926777387966982],\n",
       " '59': [-0.5820017215776878, 0.9449964811455102],\n",
       " '60': [-0.5646076847387588, 0.8895629474449759],\n",
       " '61': [-0.60003808000596, 0.3553033492700386],\n",
       " '62': [nan, nan],\n",
       " '63': [-0.6285766650836009, 0.6890567294409314],\n",
       " '64': [0.8924794566410506, -0.9480840143238914]}"
      ]
     },
     "execution_count": 67,
     "metadata": {},
     "output_type": "execute_result"
    }
   ],
   "source": [
    "json.loads(dataFrameFinal['centroidsFinal'][0])"
   ]
  },
  {
   "cell_type": "code",
   "execution_count": null,
   "id": "a3c8ff44",
   "metadata": {},
   "outputs": [],
   "source": []
  }
 ],
 "metadata": {
  "kernelspec": {
   "display_name": "Python 3 (ipykernel)",
   "language": "python",
   "name": "python3"
  },
  "language_info": {
   "codemirror_mode": {
    "name": "ipython",
    "version": 3
   },
   "file_extension": ".py",
   "mimetype": "text/x-python",
   "name": "python",
   "nbconvert_exporter": "python",
   "pygments_lexer": "ipython3",
   "version": "3.8.5"
  }
 },
 "nbformat": 4,
 "nbformat_minor": 5
}
