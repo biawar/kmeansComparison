{
 "cells": [
  {
   "cell_type": "code",
   "execution_count": 1,
   "id": "b33670c9",
   "metadata": {},
   "outputs": [],
   "source": [
    "import pandas as pd\n",
    "import glob\n",
    "import numpy as np\n",
    "import matplotlib.pyplot as plt\n",
    "from mpl_toolkits.mplot3d import Axes3D\n",
    "from ast import literal_eval\n",
    "%matplotlib inline"
   ]
  },
  {
   "cell_type": "code",
   "execution_count": 9,
   "id": "73b88f93",
   "metadata": {},
   "outputs": [],
   "source": [
    "# Get data\n",
    "array_files_csv = glob.glob(\"Circles/*_circle.csv\")"
   ]
  },
  {
   "cell_type": "code",
   "execution_count": 10,
   "id": "e426d0df",
   "metadata": {
    "scrolled": false
   },
   "outputs": [
    {
     "data": {
      "text/plain": [
       "['Circles/smal_circle.csv', 'Circles/big_circle.csv']"
      ]
     },
     "execution_count": 10,
     "metadata": {},
     "output_type": "execute_result"
    }
   ],
   "source": [
    "array_files_csv"
   ]
  },
  {
   "cell_type": "code",
   "execution_count": 11,
   "id": "44a5e6ac",
   "metadata": {},
   "outputs": [],
   "source": [
    "def concatenateDatasets(array_to_concatenate):\n",
    "    dataset = 0\n",
    "    array = []\n",
    "    for velocidadeVia in array_to_concatenate:\n",
    "        dataset = pd.read_csv(velocidadeVia,sep='\\t')\n",
    "        array.append(dataset)\n",
    "    return pd.concat(array)"
   ]
  },
  {
   "cell_type": "code",
   "execution_count": 12,
   "id": "0cdbc192",
   "metadata": {},
   "outputs": [],
   "source": [
    "#Create an array with all data arrays\n",
    "dataFiles = concatenateDatasets(array_files_csv)"
   ]
  },
  {
   "cell_type": "code",
   "execution_count": 13,
   "id": "0f2e4138",
   "metadata": {},
   "outputs": [],
   "source": [
    "np.warnings.filterwarnings('error', category=np.VisibleDeprecationWarning)"
   ]
  },
  {
   "cell_type": "code",
   "execution_count": 14,
   "id": "a7d4d078",
   "metadata": {},
   "outputs": [],
   "source": [
    "# Create unique array with data\n",
    "dataFiles = dataFiles.drop('Unnamed: 0', axis=1)"
   ]
  },
  {
   "cell_type": "code",
   "execution_count": 15,
   "id": "954ee462",
   "metadata": {
    "scrolled": true
   },
   "outputs": [
    {
     "data": {
      "text/html": [
       "<div>\n",
       "<style scoped>\n",
       "    .dataframe tbody tr th:only-of-type {\n",
       "        vertical-align: middle;\n",
       "    }\n",
       "\n",
       "    .dataframe tbody tr th {\n",
       "        vertical-align: top;\n",
       "    }\n",
       "\n",
       "    .dataframe thead th {\n",
       "        text-align: right;\n",
       "    }\n",
       "</style>\n",
       "<table border=\"1\" class=\"dataframe\">\n",
       "  <thead>\n",
       "    <tr style=\"text-align: right;\">\n",
       "      <th></th>\n",
       "      <th>x</th>\n",
       "      <th>y</th>\n",
       "    </tr>\n",
       "  </thead>\n",
       "  <tbody>\n",
       "    <tr>\n",
       "      <th>0</th>\n",
       "      <td>0.909606</td>\n",
       "      <td>-0.874071</td>\n",
       "    </tr>\n",
       "    <tr>\n",
       "      <th>1</th>\n",
       "      <td>0.928748</td>\n",
       "      <td>-0.915674</td>\n",
       "    </tr>\n",
       "    <tr>\n",
       "      <th>2</th>\n",
       "      <td>0.877777</td>\n",
       "      <td>-0.943930</td>\n",
       "    </tr>\n",
       "    <tr>\n",
       "      <th>3</th>\n",
       "      <td>0.971479</td>\n",
       "      <td>-0.893251</td>\n",
       "    </tr>\n",
       "    <tr>\n",
       "      <th>4</th>\n",
       "      <td>0.912215</td>\n",
       "      <td>-0.909755</td>\n",
       "    </tr>\n",
       "    <tr>\n",
       "      <th>...</th>\n",
       "      <td>...</td>\n",
       "      <td>...</td>\n",
       "    </tr>\n",
       "    <tr>\n",
       "      <th>1995</th>\n",
       "      <td>-0.729145</td>\n",
       "      <td>0.690533</td>\n",
       "    </tr>\n",
       "    <tr>\n",
       "      <th>1996</th>\n",
       "      <td>-0.473058</td>\n",
       "      <td>0.690659</td>\n",
       "    </tr>\n",
       "    <tr>\n",
       "      <th>1997</th>\n",
       "      <td>-0.398670</td>\n",
       "      <td>0.645237</td>\n",
       "    </tr>\n",
       "    <tr>\n",
       "      <th>1998</th>\n",
       "      <td>-0.651555</td>\n",
       "      <td>0.250620</td>\n",
       "    </tr>\n",
       "    <tr>\n",
       "      <th>1999</th>\n",
       "      <td>-0.312295</td>\n",
       "      <td>0.392755</td>\n",
       "    </tr>\n",
       "  </tbody>\n",
       "</table>\n",
       "<p>3000 rows × 2 columns</p>\n",
       "</div>"
      ],
      "text/plain": [
       "             x         y\n",
       "0     0.909606 -0.874071\n",
       "1     0.928748 -0.915674\n",
       "2     0.877777 -0.943930\n",
       "3     0.971479 -0.893251\n",
       "4     0.912215 -0.909755\n",
       "...        ...       ...\n",
       "1995 -0.729145  0.690533\n",
       "1996 -0.473058  0.690659\n",
       "1997 -0.398670  0.645237\n",
       "1998 -0.651555  0.250620\n",
       "1999 -0.312295  0.392755\n",
       "\n",
       "[3000 rows x 2 columns]"
      ]
     },
     "execution_count": 15,
     "metadata": {},
     "output_type": "execute_result"
    }
   ],
   "source": [
    "dataFiles"
   ]
  },
  {
   "cell_type": "code",
   "execution_count": 9,
   "id": "c66f3c33",
   "metadata": {},
   "outputs": [],
   "source": [
    "# Convert files to float\n",
    "# array_files = arr.astype(np.float)"
   ]
  },
  {
   "cell_type": "code",
   "execution_count": 10,
   "id": "be712ba3",
   "metadata": {
    "scrolled": true
   },
   "outputs": [
    {
     "data": {
      "text/plain": [
       "array([[2.594034e-04],\n",
       "       [1.525900e-05],\n",
       "       [1.525900e-05],\n",
       "       ...,\n",
       "       [1.525900e-05],\n",
       "       [1.525900e-05],\n",
       "       [2.594034e-04]])"
      ]
     },
     "execution_count": 10,
     "metadata": {},
     "output_type": "execute_result"
    }
   ],
   "source": [
    "# array_files"
   ]
  },
  {
   "cell_type": "code",
   "execution_count": 11,
   "id": "bbe2cfae",
   "metadata": {
    "scrolled": true
   },
   "outputs": [
    {
     "data": {
      "text/plain": [
       "29120"
      ]
     },
     "execution_count": 11,
     "metadata": {},
     "output_type": "execute_result"
    }
   ],
   "source": [
    "# array_files.size"
   ]
  },
  {
   "cell_type": "code",
   "execution_count": 12,
   "id": "8aed693a",
   "metadata": {},
   "outputs": [],
   "source": [
    "# array_to_be_par = array_files.tolist()"
   ]
  },
  {
   "cell_type": "code",
   "execution_count": 16,
   "id": "a10688ca",
   "metadata": {
    "scrolled": false
   },
   "outputs": [
    {
     "name": "stdout",
     "output_type": "stream",
     "text": [
      "Digite o valor da dimensão 2\n"
     ]
    }
   ],
   "source": [
    "dim = input(\"Digite o valor da dimensão \")"
   ]
  },
  {
   "cell_type": "code",
   "execution_count": 17,
   "id": "92f4e12e",
   "metadata": {
    "scrolled": true
   },
   "outputs": [],
   "source": [
    "dim = int(dim)"
   ]
  },
  {
   "cell_type": "code",
   "execution_count": 15,
   "id": "9ef15b01",
   "metadata": {},
   "outputs": [],
   "source": [
    "# #Split array on dimension was inserted\n",
    "# def split(arr, size):\n",
    "#      arrs = []\n",
    "#      while len(arr) > size:\n",
    "#          pice = arr[:size]\n",
    "#          arrs.append(pice)\n",
    "#          arr   = arr[size:]\n",
    "#      arrs.append(arr)\n",
    "#      return arrs"
   ]
  },
  {
   "cell_type": "code",
   "execution_count": 16,
   "id": "1b6fe474",
   "metadata": {},
   "outputs": [],
   "source": [
    "# array_by_dim = split(array_to_be_par,dim)"
   ]
  },
  {
   "cell_type": "code",
   "execution_count": 18,
   "id": "114aa969",
   "metadata": {
    "scrolled": false
   },
   "outputs": [
    {
     "name": "stdout",
     "output_type": "stream",
     "text": [
      "Insira o tamanho do Dicionario (K): 16\n"
     ]
    }
   ],
   "source": [
    "k_value = input(\"Insira o tamanho do Dicionario (K): \")"
   ]
  },
  {
   "cell_type": "code",
   "execution_count": 19,
   "id": "0b015f9c",
   "metadata": {},
   "outputs": [],
   "source": [
    "k_value = int(k_value)"
   ]
  },
  {
   "cell_type": "code",
   "execution_count": 20,
   "id": "5e7958d7",
   "metadata": {},
   "outputs": [
    {
     "name": "stdout",
     "output_type": "stream",
     "text": [
      "Insira o Limiar de distorção: 0.00000001\n"
     ]
    }
   ],
   "source": [
    "limiar_dist = input(\"Insira o Limiar de distorção: \")"
   ]
  },
  {
   "cell_type": "code",
   "execution_count": 22,
   "id": "ccc82d6b",
   "metadata": {},
   "outputs": [],
   "source": [
    "limiar_dist = float(limiar_dist)"
   ]
  },
  {
   "cell_type": "code",
   "execution_count": 21,
   "id": "74b341f0",
   "metadata": {},
   "outputs": [],
   "source": [
    "# del array_by_dim[-1]"
   ]
  },
  {
   "cell_type": "code",
   "execution_count": 22,
   "id": "f2b8fe16",
   "metadata": {},
   "outputs": [],
   "source": [
    "# #Remove colchetes e retorna valor float\n",
    "# def convert_to_value(value):\n",
    "#     value = str(value)\n",
    "#     value = value[1:-1]\n",
    "#     value = float(value)\n",
    "#     return value"
   ]
  },
  {
   "cell_type": "code",
   "execution_count": 23,
   "id": "c85b0085",
   "metadata": {},
   "outputs": [],
   "source": [
    "# # Cria as variaveis dinamicamente a partir da dimensao. Cria um array do x , y,z .... \n",
    "# def createVariables(sizeFiles):\n",
    "#     for i in range(sizeFiles):\n",
    "#         globals()[f\"array_{i}\"] = []"
   ]
  },
  {
   "cell_type": "code",
   "execution_count": 24,
   "id": "4c3e0b44",
   "metadata": {},
   "outputs": [],
   "source": [
    "# createVariables(dim)"
   ]
  },
  {
   "cell_type": "code",
   "execution_count": 25,
   "id": "393b4dcd",
   "metadata": {},
   "outputs": [],
   "source": [
    "# # Seta os valores do x,y,z ...\n",
    "# posicion_array = 0\n",
    "# for i in array_by_dim:\n",
    "#     for a in range(dim):\n",
    "#         globals()[f\"array_{a}\"].append(convert_to_value(array_by_dim[posicion_array][a]))\n",
    "#     if(posicion_array <= len(array_by_dim)):\n",
    "#         posicion_array = posicion_array + 1\n",
    "#     else:\n",
    "#         break"
   ]
  },
  {
   "cell_type": "code",
   "execution_count": 26,
   "id": "45c18304",
   "metadata": {},
   "outputs": [],
   "source": [
    "# # Maior valor e menor que tem nos dados\n",
    "# import random\n",
    "# import re\n",
    "\n",
    "# maxValue = str(max(array_to_be_par))\n",
    "# minValue = str(min(array_to_be_par))\n",
    "# maxValue = re.sub(r\"[\\([{})\\]]\", \"\", maxValue)\n",
    "# minValue = re.sub(r\"[\\([{})\\]]\", \"\", minValue)\n",
    "# maxValue = float(maxValue)\n",
    "# minValue = float(minValue)"
   ]
  },
  {
   "cell_type": "code",
   "execution_count": 27,
   "id": "5cfcdd88",
   "metadata": {},
   "outputs": [],
   "source": [
    "# # Cria os valores dos centroids\n",
    "# def createCentroidsPoints():\n",
    "#     value = str(random.choice(array_by_dim))\n",
    "#     value = re.sub(r\"[\\([{})\\]]\", \"\", value)\n",
    "#     arr = []\n",
    "#     arr.append(value)\n",
    "#     translation = {39: None}\n",
    "#     arr = str(arr).translate(translation)\n",
    "#     return arr"
   ]
  },
  {
   "cell_type": "code",
   "execution_count": 28,
   "id": "1721b0ea",
   "metadata": {},
   "outputs": [],
   "source": [
    "# colors = ['yellow','blue','red','pink', 'green', 'purple', 'grey', 'brown', 'orange']"
   ]
  },
  {
   "cell_type": "code",
   "execution_count": 7,
   "id": "9363a2ea",
   "metadata": {
    "scrolled": true
   },
   "outputs": [
    {
     "name": "stdout",
     "output_type": "stream",
     "text": [
      "{'1': [0.8264881996930539, 0.3043699652942658], '2': [0.904320523708124, 0.6285101536703757], '3': [-0.8967976106666387, -0.9060676357745604], '4': [0.872772088990307, 0.5735014139117145], '5': [-0.4769086050932877, 0.2122695882610286], '6': [0.8254694759040936, -0.9672037025217408], '7': [-0.8488429168867617, 0.916330525215042], '8': [-0.4043282015693472, 0.7418653614847338], '9': [-0.892679019934072, 0.8387077683621327], '10': [-0.9636374571063058, 0.5179504319226058], '11': [0.8902112938779345, 0.5570745915983316], '12': [-0.7961357266000324, -0.8654198041142789], '13': [-0.549740936788879, -0.9109191648338444], '14': [-0.5536475723651804, 0.9217070032055038], '15': [-0.6989620893403052, 0.4318502905773864], '16': [-0.4575939932893434, -0.8871577087238987]}\n"
     ]
    }
   ],
   "source": [
    "## K means initialization\n",
    "\n",
    "import pandas as pd\n",
    "import numpy as np\n",
    "import matplotlib.pyplot as plt\n",
    "%matplotlib inline\n",
    "\n",
    "np.random.seed(200)\n",
    "# k = k_value\n",
    "centroids = {}\n",
    "\n",
    "import json\n",
    "\n",
    "f = open ('centroidsRead.json', \"r\")\n",
    "data = json.loads(f.read())\n",
    "\n",
    "centroids = data\n",
    "print(centroids)\n",
    "# centroids = {\n",
    "#     i+1: literal_eval(createCentroidsPoints())\n",
    "#     for i in range(k)\n",
    "# }\n",
    "\n",
    "# centroids = { \n",
    "#     1: [-0.0622415503, -0.0700541695],\n",
    "#     2: [-0.0075532158, -0.0077973602],\n",
    "#     3: [0.023697261, 0.0315098802]}\n",
    "\n",
    "# if(dim ==2):\n",
    "#     fig = plt.figure(figsize=(5, 5))\n",
    "#     plt.scatter(array_0,array_1,color='k')\n",
    "#     for i in centroids.keys():\n",
    "#         plt.scatter(*centroids[i], color=colors[i],edgecolors='black',s=100)\n",
    "#     plt.show()"
   ]
  },
  {
   "cell_type": "code",
   "execution_count": 30,
   "id": "17da4a48",
   "metadata": {},
   "outputs": [
    {
     "data": {
      "text/plain": [
       "{1: [-0.0622415503, -0.0700541695],\n",
       " 2: [-0.0075532158, -0.0077973602],\n",
       " 3: [0.023697261, 0.0315098802]}"
      ]
     },
     "execution_count": 30,
     "metadata": {},
     "output_type": "execute_result"
    }
   ],
   "source": [
    "centroids"
   ]
  },
  {
   "cell_type": "code",
   "execution_count": 31,
   "id": "37ae47aa",
   "metadata": {},
   "outputs": [],
   "source": [
    "# Cria as colunas no dataset (tabela)\n",
    "import pandas as pd\n",
    "\n",
    "df = pd.DataFrame(columns=[])\n",
    "\n",
    "for i in range(dim):\n",
    "    df[i] = globals()[f\"array_{i}\"]"
   ]
  },
  {
   "cell_type": "code",
   "execution_count": 32,
   "id": "599c926a",
   "metadata": {
    "scrolled": true
   },
   "outputs": [
    {
     "name": "stdout",
     "output_type": "stream",
     "text": [
      "0        0.000259\n",
      "1        0.000015\n",
      "2        0.007828\n",
      "3        0.008072\n",
      "4        0.007828\n",
      "           ...   \n",
      "14554    0.000259\n",
      "14555   -0.007553\n",
      "14556   -0.007553\n",
      "14557   -0.007797\n",
      "14558    0.000015\n",
      "Name: 0, Length: 14559, dtype: float64\n",
      "0        0.000015\n",
      "1        0.007828\n",
      "2        0.007828\n",
      "3        0.007828\n",
      "4        0.007828\n",
      "           ...   \n",
      "14554    0.000259\n",
      "14555   -0.007797\n",
      "14556   -0.007797\n",
      "14557    0.000259\n",
      "14558    0.000015\n",
      "Name: 1, Length: 14559, dtype: float64\n",
      "0        0.000259\n",
      "1        0.000015\n",
      "2        0.007828\n",
      "3        0.008072\n",
      "4        0.007828\n",
      "           ...   \n",
      "14554    0.000259\n",
      "14555   -0.007553\n",
      "14556   -0.007553\n",
      "14557   -0.007797\n",
      "14558    0.000015\n",
      "Name: 0, Length: 14559, dtype: float64\n",
      "0        0.000015\n",
      "1        0.007828\n",
      "2        0.007828\n",
      "3        0.007828\n",
      "4        0.007828\n",
      "           ...   \n",
      "14554    0.000259\n",
      "14555   -0.007797\n",
      "14556   -0.007797\n",
      "14557    0.000259\n",
      "14558    0.000015\n",
      "Name: 1, Length: 14559, dtype: float64\n",
      "0        0.000259\n",
      "1        0.000015\n",
      "2        0.007828\n",
      "3        0.008072\n",
      "4        0.007828\n",
      "           ...   \n",
      "14554    0.000259\n",
      "14555   -0.007553\n",
      "14556   -0.007553\n",
      "14557   -0.007797\n",
      "14558    0.000015\n",
      "Name: 0, Length: 14559, dtype: float64\n",
      "0        0.000015\n",
      "1        0.007828\n",
      "2        0.007828\n",
      "3        0.007828\n",
      "4        0.007828\n",
      "           ...   \n",
      "14554    0.000259\n",
      "14555   -0.007797\n",
      "14556   -0.007797\n",
      "14557    0.000259\n",
      "14558    0.000015\n",
      "Name: 1, Length: 14559, dtype: float64\n"
     ]
    }
   ],
   "source": [
    "## Assignment Stage\n",
    "\n",
    "def assignment(df, centroids):\n",
    "    for i in centroids.keys():\n",
    "        # (x1 - x2)² + (y1 - y2)²\n",
    "        for a in range(dim):\n",
    "            value = 0\n",
    "            print(df[a])\n",
    "            value = (df[a] - centroids[i][a]) ** 2 + value\n",
    "        df['distance_from_{}'.format(i)] = value\n",
    "    centroid_distance_cols = ['distance_from_{}'.format(i) for i in centroids.keys()]\n",
    "    df['closest'] = df.loc[:, centroid_distance_cols].idxmin(axis=1)\n",
    "    df['closest'] = df['closest'].map(lambda x: int(x.lstrip('distance_from_')))\n",
    "    df['color'] = df['closest'].map(lambda x: colors[x])\n",
    "    return df\n",
    "\n",
    "df = assignment(df, centroids)\n",
    "\n",
    "# if(dim == 2): \n",
    "#     fig = plt.figure(figsize=(5,5))\n",
    "#     img = plt.scatter(array_0, array_1,color=df['color'],alpha=0.5,edgecolor='k')\n",
    "#     for i in centroids.keys():\n",
    "#         plt.scatter(*centroids[i], color=colors[i],s=100,edgecolor='black')\n",
    "#     plt.show()\n"
   ]
  },
  {
   "cell_type": "code",
   "execution_count": 224,
   "id": "41752846",
   "metadata": {
    "scrolled": false
   },
   "outputs": [
    {
     "data": {
      "text/plain": [
       "{1: [-0.0622415503, -0.0700541695],\n",
       " 2: [-0.0075532158, -0.0077973602],\n",
       " 3: [0.023697261, 0.0315098802]}"
      ]
     },
     "execution_count": 224,
     "metadata": {},
     "output_type": "execute_result"
    }
   ],
   "source": [
    "old_centroids = copy.deepcopy(centroids)\n",
    "old_centroids"
   ]
  },
  {
   "cell_type": "code",
   "execution_count": 225,
   "id": "cece6000",
   "metadata": {},
   "outputs": [],
   "source": [
    "## Update Centroid Value Stage\n",
    "\n",
    "import copy\n",
    "\n",
    "old_centroids = copy.deepcopy(centroids)\n",
    "\n",
    "def update(current):\n",
    "    new_k = copy.deepcopy(centroids)\n",
    "    k = k_value\n",
    "    j = 0\n",
    "    for i in current.keys():\n",
    "        for a in range(dim):\n",
    "            #centroids = old_value + 1.8 * (current_value - old_value)\n",
    "            current[i][a] = np.mean(df[df['closest'] == i][a])\n",
    "            new_k[i][a] = old_centroids[i][a] + 1.5 * (current[i][a] - old_centroids[i][a])\n",
    "            # normal k[i][a] = np.mean(df[df['closest'] == i][a])\n",
    "    return new_k\n",
    "    \n",
    "centroids = update(centroids)"
   ]
  },
  {
   "cell_type": "code",
   "execution_count": 226,
   "id": "523fc651",
   "metadata": {
    "scrolled": false
   },
   "outputs": [
    {
     "data": {
      "image/png": "[encoded data removed]",
      "text/plain": [
       "<Figure size 360x360 with 1 Axes>"
      ]
     },
     "metadata": {
      "needs_background": "light"
     },
     "output_type": "display_data"
    }
   ],
   "source": [
    "## Repeat Assigment Stage\n",
    "\n",
    "df = assignment(df, centroids)\n",
    "\n",
    "# Plot Results\n",
    "if(dim == 2):\n",
    "    fig = plt.figure(figsize=(5,5))\n",
    "    plt.scatter(array_0, array_1, color=df['color'], alpha=0.5, edgecolor='k')\n",
    "    for i in centroids.keys():\n",
    "        plt.scatter(*centroids[i], color=colors[i],s=100,edgecolor='black')\n",
    "    plt.xlim(minValue, maxValue)\n",
    "    plt.ylim(minValue, maxValue)\n",
    "    plt.show()"
   ]
  },
  {
   "cell_type": "code",
   "execution_count": 227,
   "id": "a2aa8b03",
   "metadata": {
    "scrolled": true
   },
   "outputs": [
    {
     "name": "stdout",
     "output_type": "stream",
     "text": [
      "3\n"
     ]
    },
    {
     "data": {
      "image/png": "[encoded data removed]",
      "text/plain": [
       "<Figure size 360x360 with 1 Axes>"
      ]
     },
     "metadata": {
      "needs_background": "light"
     },
     "output_type": "display_data"
    }
   ],
   "source": [
    "## Continue until assigned categories don't change any more\n",
    "a = 0\n",
    "while True:\n",
    "    a = a + 1\n",
    "    closest_centroids = df['closest'].copy(deep=True)\n",
    "    for i in closest_centroids:\n",
    "        df['old_value'] = df['distance_from_{}'.format(i)]\n",
    "    centroids = update(centroids)\n",
    "    df = assignment(df, centroids)\n",
    "    current_centroids = df['closest'].copy(deep=True)\n",
    "    for i in current_centroids:\n",
    "        df['current_value'] = df['distance_from_{}'.format(i)]\n",
    "    delta = (np.sum(df['old_value']) - np.sum(df['current_value']))/(np.sum(df['old_value']))\n",
    "    if delta <= limiar_dist: \n",
    "        break\n",
    "print(a)        \n",
    "fig = plt.figure(figsize=(5, 5 ))\n",
    "plt.scatter(array_0, array_1, color=df['color'], alpha=0.5, edgecolor='k')\n",
    "for i in centroids.keys():\n",
    "    plt.scatter(*centroids[i], color=colors[i],s=100,edgecolor='black')\n",
    "plt.xlim(minValue, maxValue)\n",
    "plt.ylim(minValue, maxValue)\n",
    "plt.show()"
   ]
  },
  {
   "cell_type": "code",
   "execution_count": null,
   "id": "958022e3",
   "metadata": {
    "scrolled": true
   },
   "outputs": [],
   "source": [
    "df"
   ]
  },
  {
   "cell_type": "code",
   "execution_count": 246,
   "id": "78359445",
   "metadata": {
    "scrolled": true
   },
   "outputs": [
    {
     "data": {
      "text/plain": [
       "{1: [1.5259e-05, 1.5259e-05],\n",
       " 2: [0.0625162127, 0.0468909743],\n",
       " 3: [-0.2888075074, -0.2187380789]}"
      ]
     },
     "execution_count": 246,
     "metadata": {},
     "output_type": "execute_result"
    }
   ],
   "source": [
    "centroids"
   ]
  },
  {
   "cell_type": "code",
   "execution_count": 41,
   "id": "3aca60c1",
   "metadata": {},
   "outputs": [],
   "source": [
    "## K means initialization\n",
    "import random\n",
    "import re\n",
    "import pandas as pd\n",
    "import numpy as np\n",
    "import json\n",
    "import matplotlib.pyplot as plt\n",
    "import pickle\n",
    "%matplotlib inline\n",
    "\n",
    "r = 1\n",
    "s = 0\n",
    "\n",
    "centroidsIniciais=[]\n",
    "centroidsFinal=[]\n",
    "numero_iteracoes=[]\n",
    "mse=[]\n",
    "starter_cent = []\n",
    "\n",
    "with open(\"Circles/inicialCentroids.txt\", \"rb\") as fp:   # Unpickling\n",
    "    starter_cent = pickle.load(fp)\n",
    "\n",
    "while r <= 30:\n",
    "    k = k_value\n",
    "\n",
    "    centroids = starter_cent[s]\n",
    "    import pandas as pd\n",
    "\n",
    "    df = pd.DataFrame(columns=[])\n",
    "    df = dataFiles\n",
    "    df = df.rename(columns={'x':'0','y':'1'})\n",
    "\n",
    "    def assignment(df, centroids):\n",
    "        for i in centroids.keys():\n",
    "            # (x1 - x2)² + (y1 - y2)²\n",
    "            for a in range(dim):\n",
    "                value = 0\n",
    "                value = (df[f\"{a}\"] - centroids[i][a]) ** 2 + value\n",
    "            df['distance_from_{}'.format(i)] = value\n",
    "        centroid_distance_cols = ['distance_from_{}'.format(i) for i in centroids.keys()]\n",
    "        df['closest'] = df.loc[:, centroid_distance_cols].idxmin(axis=1)\n",
    "        df['closest'] = df['closest'].map(lambda x: int(x.lstrip('distance_from_')))\n",
    "#         df['color'] = df['closest'].map(lambda x: colors[x])\n",
    "        return df\n",
    "\n",
    "    df = assignment(df, centroids)\n",
    "\n",
    "    import copy\n",
    "\n",
    "    old_centroids = copy.deepcopy(centroids)\n",
    "\n",
    "    def update(current):\n",
    "        new_k = copy.deepcopy(centroids)\n",
    "        k = k_value\n",
    "        for j in current.keys():\n",
    "            for l in range(dim):\n",
    "                #centroids = old_value + 1.8 * (current_value - old_value)\n",
    "                current[j][l] = np.mean(df[df['closest'] == j][f\"{l}\"])\n",
    "                new_k[j][l] = old_centroids[j][l] + 0.7 * (current[j][l] - old_centroids[j][l])\n",
    "                # normal k[i][a] = np.mean(df[df['closest'] == i][a])\n",
    "        return new_k\n",
    "\n",
    "\n",
    "    centroids = update(centroids)\n",
    "\n",
    "    df = assignment(df, centroids)\n",
    "    \n",
    "    a = 0\n",
    "    while True:\n",
    "        a = a + 1\n",
    "        closest_centroids = df['closest'].copy(deep=True)\n",
    "        for i in closest_centroids:\n",
    "            df['old_value'] = df['distance_from_{}'.format(i)]\n",
    "        centroids = update(centroids)\n",
    "        df = assignment(df, centroids)\n",
    "        current_centroids = df['closest'].copy(deep=True)\n",
    "        for i in current_centroids:\n",
    "            df['current_value'] = df['distance_from_{}'.format(i)]\n",
    "        delta = (np.sum(df['old_value']) - np.sum(df['current_value']))/(np.sum(df['old_value']))\n",
    "        if delta <= limiar_dist: \n",
    "            break\n",
    "    num_int = a        \n",
    "\n",
    "    old_df = df\n",
    "    old_df = old_df.drop(['0','1','closest','old_value','current_value'], axis=1)\n",
    "    for i in centroids.keys():\n",
    "        old_df = old_df.rename(columns={f\"distance_from_{i}\":f\"{i}\"})    \n",
    "    new_df = pd.DataFrame(columns=['new_data_with_centroids'])\n",
    "    def reconstrucao():\n",
    "        arr = []\n",
    "        valueCentroidMin = old_df.idxmin(axis=1)\n",
    "        valueCentroidMin = np.array(valueCentroidMin)\n",
    "        for i in valueCentroidMin:\n",
    "            arr.append(centroids[int(i)])\n",
    "        new_df['new_data_with_centroids'] = arr\n",
    "\n",
    "    reconstrucao()\n",
    "\n",
    "    new_df['old_data_x'] = dataFiles['x'].to_numpy()\n",
    "    new_df['old_data_y'] = dataFiles['y'].to_numpy()\n",
    "\n",
    "    array_x = []\n",
    "    array_y = []\n",
    "    for i in new_df['new_data_with_centroids']:\n",
    "        array_x.append(i[0])\n",
    "        array_y.append(i[1])\n",
    "    new_df['x_new'] = array_x\n",
    "    new_df['y_new'] = array_y\n",
    "    new_df = new_df.drop(['new_data_with_centroids'], axis=1)\n",
    "\n",
    "    # new_df\n",
    "\n",
    "    a = 0\n",
    "    MSE = 0\n",
    "    new_value = [*new_df['x_new'].to_numpy() , *new_df['y_new'].to_numpy()] \n",
    "    old_value = [*new_df['old_data_x'].to_numpy() , *new_df['old_data_y'].to_numpy()]\n",
    "    for i in new_value:\n",
    "        MSE = (i - old_value[a]) **2 + MSE  \n",
    "        a = a + 1\n",
    "    MSE = MSE / len(new_value) \n",
    "    dataFrameFinal = pd.DataFrame(columns=[])\n",
    "\n",
    "    centroidsFinal.append(json.dumps(centroids))\n",
    "    numero_iteracoes.append(num_int)\n",
    "    mse.append(MSE)\n",
    "\n",
    "    r = r + 1\n",
    "    s = s + 1\n",
    "\n",
    "dataFrameFinal['MSE'] = mse\n",
    "dataFrameFinal['centroidsInicial'] = starter_cent\n",
    "dataFrameFinal['centroidsFinal'] = centroidsFinal\n",
    "dataFrameFinal['NInteracoes'] = numero_iteracoes\n",
    "\n",
    "dataFrameFinal.to_csv('Circles/tabela_final_Kmeans_Acelerado.csv')"
   ]
  },
  {
   "cell_type": "code",
   "execution_count": 42,
   "id": "f2534ed6",
   "metadata": {},
   "outputs": [
    {
     "data": {
      "text/html": [
       "<div>\n",
       "<style scoped>\n",
       "    .dataframe tbody tr th:only-of-type {\n",
       "        vertical-align: middle;\n",
       "    }\n",
       "\n",
       "    .dataframe tbody tr th {\n",
       "        vertical-align: top;\n",
       "    }\n",
       "\n",
       "    .dataframe thead th {\n",
       "        text-align: right;\n",
       "    }\n",
       "</style>\n",
       "<table border=\"1\" class=\"dataframe\">\n",
       "  <thead>\n",
       "    <tr style=\"text-align: right;\">\n",
       "      <th></th>\n",
       "      <th>MSE</th>\n",
       "      <th>centroidsInicial</th>\n",
       "      <th>centroidsFinal</th>\n",
       "      <th>NInteracoes</th>\n",
       "    </tr>\n",
       "  </thead>\n",
       "  <tbody>\n",
       "    <tr>\n",
       "      <th>0</th>\n",
       "      <td>0.013994</td>\n",
       "      <td>{1: [0.897030829003045, -0.9586412434283559], ...</td>\n",
       "      <td>{\"1\": [0.8966728410713315, -0.9587612833886897...</td>\n",
       "      <td>8</td>\n",
       "    </tr>\n",
       "    <tr>\n",
       "      <th>1</th>\n",
       "      <td>0.013936</td>\n",
       "      <td>{1: [0.8982696874460883, -0.9790992007495732],...</td>\n",
       "      <td>{\"1\": [0.8982120131628119, -0.978988895678869]...</td>\n",
       "      <td>1</td>\n",
       "    </tr>\n",
       "    <tr>\n",
       "      <th>2</th>\n",
       "      <td>0.013857</td>\n",
       "      <td>{1: [0.8982684103845641, -0.8247300896345584],...</td>\n",
       "      <td>{\"1\": [0.8982684103845641, -0.8247300896345584...</td>\n",
       "      <td>1</td>\n",
       "    </tr>\n",
       "    <tr>\n",
       "      <th>3</th>\n",
       "      <td>0.013888</td>\n",
       "      <td>{1: [0.8967260431353439, -0.850639175721239], ...</td>\n",
       "      <td>{\"1\": [0.8965407273594304, -0.8506360081333014...</td>\n",
       "      <td>1</td>\n",
       "    </tr>\n",
       "    <tr>\n",
       "      <th>4</th>\n",
       "      <td>0.013927</td>\n",
       "      <td>{1: [-0.5898448936992416, 0.502450896395214], ...</td>\n",
       "      <td>{\"1\": [-0.5906667594561763, 0.5024378736533698...</td>\n",
       "      <td>2</td>\n",
       "    </tr>\n",
       "    <tr>\n",
       "      <th>5</th>\n",
       "      <td>0.013861</td>\n",
       "      <td>{1: [0.8992283736235506, -0.8456321029141474],...</td>\n",
       "      <td>{\"1\": [0.8983014698857301, -0.8453412396684706...</td>\n",
       "      <td>8</td>\n",
       "    </tr>\n",
       "    <tr>\n",
       "      <th>6</th>\n",
       "      <td>0.014045</td>\n",
       "      <td>{1: [-0.5956254758924749, 0.41117346692636036]...</td>\n",
       "      <td>{\"1\": [-0.5944696330026584, 0.4111845894277363...</td>\n",
       "      <td>1</td>\n",
       "    </tr>\n",
       "    <tr>\n",
       "      <th>7</th>\n",
       "      <td>0.013854</td>\n",
       "      <td>{1: [0.8964285664357312, -0.8370929715022914],...</td>\n",
       "      <td>{\"1\": [0.89647913752274, -0.8370535318606759],...</td>\n",
       "      <td>1</td>\n",
       "    </tr>\n",
       "    <tr>\n",
       "      <th>8</th>\n",
       "      <td>0.014421</td>\n",
       "      <td>{1: [-0.6077345050981166, 0.7292496220088075],...</td>\n",
       "      <td>{\"1\": [-0.6052264472700988, 0.7285742392659956...</td>\n",
       "      <td>1</td>\n",
       "    </tr>\n",
       "    <tr>\n",
       "      <th>9</th>\n",
       "      <td>0.013837</td>\n",
       "      <td>{1: [0.8981131122246724, -0.8304980748604553],...</td>\n",
       "      <td>{\"1\": [0.8978410012261185, -0.8303960461055774...</td>\n",
       "      <td>1</td>\n",
       "    </tr>\n",
       "    <tr>\n",
       "      <th>10</th>\n",
       "      <td>0.013807</td>\n",
       "      <td>{1: [0.8989515852043916, -0.8743627764175569],...</td>\n",
       "      <td>{\"1\": [0.8986802313229602, -0.8741477302636544...</td>\n",
       "      <td>7</td>\n",
       "    </tr>\n",
       "    <tr>\n",
       "      <th>11</th>\n",
       "      <td>0.014065</td>\n",
       "      <td>{1: [0.9036784010633621, -0.8708337578265326],...</td>\n",
       "      <td>{\"1\": [0.9009876099165255, -0.8695312756464098...</td>\n",
       "      <td>2</td>\n",
       "    </tr>\n",
       "    <tr>\n",
       "      <th>12</th>\n",
       "      <td>0.013955</td>\n",
       "      <td>{1: [0.9004481402274309, -0.9811993890516458],...</td>\n",
       "      <td>{\"1\": [0.8989219778011017, -0.9807987712057644...</td>\n",
       "      <td>6</td>\n",
       "    </tr>\n",
       "    <tr>\n",
       "      <th>13</th>\n",
       "      <td>0.013914</td>\n",
       "      <td>{1: [-0.6050271219458677, 0.7199990563001613],...</td>\n",
       "      <td>{\"1\": [-0.6039948089223928, 0.7212832607680859...</td>\n",
       "      <td>3</td>\n",
       "    </tr>\n",
       "    <tr>\n",
       "      <th>14</th>\n",
       "      <td>0.013866</td>\n",
       "      <td>{1: [-0.6191744728193801, 0.23873037743430184]...</td>\n",
       "      <td>{\"1\": [-0.6194319531564909, 0.2385715891076650...</td>\n",
       "      <td>1</td>\n",
       "    </tr>\n",
       "    <tr>\n",
       "      <th>15</th>\n",
       "      <td>0.013908</td>\n",
       "      <td>{1: [-0.5939114840473217, 0.7476410592430411],...</td>\n",
       "      <td>{\"1\": [-0.5983634092058365, 0.7483823527970622...</td>\n",
       "      <td>1</td>\n",
       "    </tr>\n",
       "    <tr>\n",
       "      <th>16</th>\n",
       "      <td>0.013926</td>\n",
       "      <td>{1: [-0.5790540303262098, 0.5452409550263209],...</td>\n",
       "      <td>{\"1\": [-0.5797290077311925, 0.5451178968898484...</td>\n",
       "      <td>1</td>\n",
       "    </tr>\n",
       "    <tr>\n",
       "      <th>17</th>\n",
       "      <td>0.013799</td>\n",
       "      <td>{1: [-0.5920219474971584, 0.9419542705174274],...</td>\n",
       "      <td>{\"1\": [-0.5924025057399335, 0.9417040845651494...</td>\n",
       "      <td>3</td>\n",
       "    </tr>\n",
       "    <tr>\n",
       "      <th>18</th>\n",
       "      <td>0.014304</td>\n",
       "      <td>{1: [-0.5978077451149936, 0.41276881620417954]...</td>\n",
       "      <td>{\"1\": [-0.5912753804968836, 0.4131568985135612...</td>\n",
       "      <td>1</td>\n",
       "    </tr>\n",
       "    <tr>\n",
       "      <th>19</th>\n",
       "      <td>0.013788</td>\n",
       "      <td>{1: [-0.6032233316579506, 0.9379118491761829],...</td>\n",
       "      <td>{\"1\": [-0.6010984944763503, 0.9379932468830823...</td>\n",
       "      <td>1</td>\n",
       "    </tr>\n",
       "    <tr>\n",
       "      <th>20</th>\n",
       "      <td>0.013873</td>\n",
       "      <td>{1: [0.9015796309038263, -0.8686566496101523],...</td>\n",
       "      <td>{\"1\": [0.9002154825761175, -0.868302889053273]...</td>\n",
       "      <td>1</td>\n",
       "    </tr>\n",
       "    <tr>\n",
       "      <th>21</th>\n",
       "      <td>0.013848</td>\n",
       "      <td>{1: [-0.5883435882910963, 0.5919367190720949],...</td>\n",
       "      <td>{\"1\": [-0.5890777385685114, 0.5916331439504157...</td>\n",
       "      <td>4</td>\n",
       "    </tr>\n",
       "    <tr>\n",
       "      <th>22</th>\n",
       "      <td>0.013928</td>\n",
       "      <td>{1: [-0.5950490693773014, 0.6172635152549273],...</td>\n",
       "      <td>{\"1\": [-0.5932673787118046, 0.6171545727085204...</td>\n",
       "      <td>1</td>\n",
       "    </tr>\n",
       "    <tr>\n",
       "      <th>23</th>\n",
       "      <td>0.013871</td>\n",
       "      <td>{1: [-0.5928895206180531, 0.9275993662138489],...</td>\n",
       "      <td>{\"1\": [-0.5925795402682152, 0.9275060078912879...</td>\n",
       "      <td>1</td>\n",
       "    </tr>\n",
       "    <tr>\n",
       "      <th>24</th>\n",
       "      <td>0.013892</td>\n",
       "      <td>{1: [-0.5893627871524132, 0.5593655934710937],...</td>\n",
       "      <td>{\"1\": [-0.5831461418212017, 0.5593293689979996...</td>\n",
       "      <td>1</td>\n",
       "    </tr>\n",
       "    <tr>\n",
       "      <th>25</th>\n",
       "      <td>0.013851</td>\n",
       "      <td>{1: [-0.5916191567322767, 0.9231667019885813],...</td>\n",
       "      <td>{\"1\": [-0.5923098341157194, 0.9230234511226967...</td>\n",
       "      <td>7</td>\n",
       "    </tr>\n",
       "    <tr>\n",
       "      <th>26</th>\n",
       "      <td>0.013799</td>\n",
       "      <td>{1: [-0.6180745554743589, 0.2649845096614168],...</td>\n",
       "      <td>{\"1\": [-0.6172816985407141, 0.2645534599066791...</td>\n",
       "      <td>4</td>\n",
       "    </tr>\n",
       "    <tr>\n",
       "      <th>27</th>\n",
       "      <td>0.014109</td>\n",
       "      <td>{1: [0.8982696874460883, -0.9790992007495732],...</td>\n",
       "      <td>{\"1\": [0.8986564136248307, -0.979196305042279]...</td>\n",
       "      <td>11</td>\n",
       "    </tr>\n",
       "    <tr>\n",
       "      <th>28</th>\n",
       "      <td>0.013926</td>\n",
       "      <td>{1: [0.8981014186772021, -0.8633167489091024],...</td>\n",
       "      <td>{\"1\": [0.8983502563777429, -0.8632192291328605...</td>\n",
       "      <td>1</td>\n",
       "    </tr>\n",
       "    <tr>\n",
       "      <th>29</th>\n",
       "      <td>0.013882</td>\n",
       "      <td>{1: [0.9007708409553825, -0.8916202493273346],...</td>\n",
       "      <td>{\"1\": [0.9013972888121603, -0.8898143283685696...</td>\n",
       "      <td>4</td>\n",
       "    </tr>\n",
       "  </tbody>\n",
       "</table>\n",
       "</div>"
      ],
      "text/plain": [
       "         MSE                                   centroidsInicial  \\\n",
       "0   0.013994  {1: [0.897030829003045, -0.9586412434283559], ...   \n",
       "1   0.013936  {1: [0.8982696874460883, -0.9790992007495732],...   \n",
       "2   0.013857  {1: [0.8982684103845641, -0.8247300896345584],...   \n",
       "3   0.013888  {1: [0.8967260431353439, -0.850639175721239], ...   \n",
       "4   0.013927  {1: [-0.5898448936992416, 0.502450896395214], ...   \n",
       "5   0.013861  {1: [0.8992283736235506, -0.8456321029141474],...   \n",
       "6   0.014045  {1: [-0.5956254758924749, 0.41117346692636036]...   \n",
       "7   0.013854  {1: [0.8964285664357312, -0.8370929715022914],...   \n",
       "8   0.014421  {1: [-0.6077345050981166, 0.7292496220088075],...   \n",
       "9   0.013837  {1: [0.8981131122246724, -0.8304980748604553],...   \n",
       "10  0.013807  {1: [0.8989515852043916, -0.8743627764175569],...   \n",
       "11  0.014065  {1: [0.9036784010633621, -0.8708337578265326],...   \n",
       "12  0.013955  {1: [0.9004481402274309, -0.9811993890516458],...   \n",
       "13  0.013914  {1: [-0.6050271219458677, 0.7199990563001613],...   \n",
       "14  0.013866  {1: [-0.6191744728193801, 0.23873037743430184]...   \n",
       "15  0.013908  {1: [-0.5939114840473217, 0.7476410592430411],...   \n",
       "16  0.013926  {1: [-0.5790540303262098, 0.5452409550263209],...   \n",
       "17  0.013799  {1: [-0.5920219474971584, 0.9419542705174274],...   \n",
       "18  0.014304  {1: [-0.5978077451149936, 0.41276881620417954]...   \n",
       "19  0.013788  {1: [-0.6032233316579506, 0.9379118491761829],...   \n",
       "20  0.013873  {1: [0.9015796309038263, -0.8686566496101523],...   \n",
       "21  0.013848  {1: [-0.5883435882910963, 0.5919367190720949],...   \n",
       "22  0.013928  {1: [-0.5950490693773014, 0.6172635152549273],...   \n",
       "23  0.013871  {1: [-0.5928895206180531, 0.9275993662138489],...   \n",
       "24  0.013892  {1: [-0.5893627871524132, 0.5593655934710937],...   \n",
       "25  0.013851  {1: [-0.5916191567322767, 0.9231667019885813],...   \n",
       "26  0.013799  {1: [-0.6180745554743589, 0.2649845096614168],...   \n",
       "27  0.014109  {1: [0.8982696874460883, -0.9790992007495732],...   \n",
       "28  0.013926  {1: [0.8981014186772021, -0.8633167489091024],...   \n",
       "29  0.013882  {1: [0.9007708409553825, -0.8916202493273346],...   \n",
       "\n",
       "                                       centroidsFinal  NInteracoes  \n",
       "0   {\"1\": [0.8966728410713315, -0.9587612833886897...            8  \n",
       "1   {\"1\": [0.8982120131628119, -0.978988895678869]...            1  \n",
       "2   {\"1\": [0.8982684103845641, -0.8247300896345584...            1  \n",
       "3   {\"1\": [0.8965407273594304, -0.8506360081333014...            1  \n",
       "4   {\"1\": [-0.5906667594561763, 0.5024378736533698...            2  \n",
       "5   {\"1\": [0.8983014698857301, -0.8453412396684706...            8  \n",
       "6   {\"1\": [-0.5944696330026584, 0.4111845894277363...            1  \n",
       "7   {\"1\": [0.89647913752274, -0.8370535318606759],...            1  \n",
       "8   {\"1\": [-0.6052264472700988, 0.7285742392659956...            1  \n",
       "9   {\"1\": [0.8978410012261185, -0.8303960461055774...            1  \n",
       "10  {\"1\": [0.8986802313229602, -0.8741477302636544...            7  \n",
       "11  {\"1\": [0.9009876099165255, -0.8695312756464098...            2  \n",
       "12  {\"1\": [0.8989219778011017, -0.9807987712057644...            6  \n",
       "13  {\"1\": [-0.6039948089223928, 0.7212832607680859...            3  \n",
       "14  {\"1\": [-0.6194319531564909, 0.2385715891076650...            1  \n",
       "15  {\"1\": [-0.5983634092058365, 0.7483823527970622...            1  \n",
       "16  {\"1\": [-0.5797290077311925, 0.5451178968898484...            1  \n",
       "17  {\"1\": [-0.5924025057399335, 0.9417040845651494...            3  \n",
       "18  {\"1\": [-0.5912753804968836, 0.4131568985135612...            1  \n",
       "19  {\"1\": [-0.6010984944763503, 0.9379932468830823...            1  \n",
       "20  {\"1\": [0.9002154825761175, -0.868302889053273]...            1  \n",
       "21  {\"1\": [-0.5890777385685114, 0.5916331439504157...            4  \n",
       "22  {\"1\": [-0.5932673787118046, 0.6171545727085204...            1  \n",
       "23  {\"1\": [-0.5925795402682152, 0.9275060078912879...            1  \n",
       "24  {\"1\": [-0.5831461418212017, 0.5593293689979996...            1  \n",
       "25  {\"1\": [-0.5923098341157194, 0.9230234511226967...            7  \n",
       "26  {\"1\": [-0.6172816985407141, 0.2645534599066791...            4  \n",
       "27  {\"1\": [0.8986564136248307, -0.979196305042279]...           11  \n",
       "28  {\"1\": [0.8983502563777429, -0.8632192291328605...            1  \n",
       "29  {\"1\": [0.9013972888121603, -0.8898143283685696...            4  "
      ]
     },
     "execution_count": 42,
     "metadata": {},
     "output_type": "execute_result"
    }
   ],
   "source": [
    "dataFrameFinal"
   ]
  },
  {
   "cell_type": "code",
   "execution_count": null,
   "id": "22079ae6",
   "metadata": {},
   "outputs": [],
   "source": []
  }
 ],
 "metadata": {
  "kernelspec": {
   "display_name": "Python 3 (ipykernel)",
   "language": "python",
   "name": "python3"
  },
  "language_info": {
   "codemirror_mode": {
    "name": "ipython",
    "version": 3
   },
   "file_extension": ".py",
   "mimetype": "text/x-python",
   "name": "python",
   "nbconvert_exporter": "python",
   "pygments_lexer": "ipython3",
   "version": "3.8.5"
  }
 },
 "nbformat": 4,
 "nbformat_minor": 5
}
