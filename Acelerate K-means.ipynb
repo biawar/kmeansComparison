{
 "cells": [
  {
   "cell_type": "code",
   "execution_count": 35,
   "id": "b33670c9",
   "metadata": {},
   "outputs": [],
   "source": [
    "import pandas as pd\n",
    "import glob\n",
    "import numpy as np\n",
    "import matplotlib.pyplot as plt\n",
    "from mpl_toolkits.mplot3d import Axes3D\n",
    "from ast import literal_eval\n",
    "%matplotlib inline"
   ]
  },
  {
   "cell_type": "code",
   "execution_count": 36,
   "id": "73b88f93",
   "metadata": {},
   "outputs": [],
   "source": [
    "# Get data\n",
    "array_files_csv = glob.glob(\"Circles/*_circle.csv\")"
   ]
  },
  {
   "cell_type": "code",
   "execution_count": 37,
   "id": "e426d0df",
   "metadata": {
    "scrolled": false
   },
   "outputs": [
    {
     "data": {
      "text/plain": [
       "['Circles/smal_circle.csv', 'Circles/big_circle.csv']"
      ]
     },
     "execution_count": 37,
     "metadata": {},
     "output_type": "execute_result"
    }
   ],
   "source": [
    "array_files_csv"
   ]
  },
  {
   "cell_type": "code",
   "execution_count": 38,
   "id": "44a5e6ac",
   "metadata": {},
   "outputs": [],
   "source": [
    "def concatenateDatasets(array_to_concatenate):\n",
    "    dataset = 0\n",
    "    array = []\n",
    "    for velocidadeVia in array_to_concatenate:\n",
    "        dataset = pd.read_csv(velocidadeVia,sep='\\t')\n",
    "        array.append(dataset)\n",
    "    return pd.concat(array)"
   ]
  },
  {
   "cell_type": "code",
   "execution_count": 39,
   "id": "0cdbc192",
   "metadata": {},
   "outputs": [],
   "source": [
    "#Create an array with all data arrays\n",
    "dataFiles = concatenateDatasets(array_files_csv)"
   ]
  },
  {
   "cell_type": "code",
   "execution_count": 40,
   "id": "0f2e4138",
   "metadata": {},
   "outputs": [],
   "source": [
    "np.warnings.filterwarnings('error', category=np.VisibleDeprecationWarning)"
   ]
  },
  {
   "cell_type": "code",
   "execution_count": 41,
   "id": "a7d4d078",
   "metadata": {},
   "outputs": [],
   "source": [
    "# Create unique array with data\n",
    "dataFiles = dataFiles.drop('Unnamed: 0', axis=1)"
   ]
  },
  {
   "cell_type": "code",
   "execution_count": 42,
   "id": "a10688ca",
   "metadata": {
    "scrolled": false
   },
   "outputs": [
    {
     "name": "stdout",
     "output_type": "stream",
     "text": [
      "Digite o valor da dimensão 2\n"
     ]
    }
   ],
   "source": [
    "dim = input(\"Digite o valor da dimensão \")"
   ]
  },
  {
   "cell_type": "code",
   "execution_count": 43,
   "id": "92f4e12e",
   "metadata": {
    "scrolled": true
   },
   "outputs": [],
   "source": [
    "dim = int(dim)"
   ]
  },
  {
   "cell_type": "code",
   "execution_count": 46,
   "id": "114aa969",
   "metadata": {
    "scrolled": false
   },
   "outputs": [
    {
     "name": "stdout",
     "output_type": "stream",
     "text": [
      "Insira o tamanho do Dicionario (K): 32\n"
     ]
    }
   ],
   "source": [
    "k_value = input(\"Insira o tamanho do Dicionario (K): \")"
   ]
  },
  {
   "cell_type": "code",
   "execution_count": 47,
   "id": "0b015f9c",
   "metadata": {},
   "outputs": [],
   "source": [
    "k_value = int(k_value)"
   ]
  },
  {
   "cell_type": "code",
   "execution_count": 48,
   "id": "5e7958d7",
   "metadata": {},
   "outputs": [
    {
     "name": "stdout",
     "output_type": "stream",
     "text": [
      "Insira o Limiar de distorção: 0.00000001\n"
     ]
    }
   ],
   "source": [
    "limiar_dist = input(\"Insira o Limiar de distorção: \")"
   ]
  },
  {
   "cell_type": "code",
   "execution_count": 49,
   "id": "ccc82d6b",
   "metadata": {},
   "outputs": [],
   "source": [
    "limiar_dist = float(limiar_dist)"
   ]
  },
  {
   "cell_type": "code",
   "execution_count": 50,
   "id": "3aca60c1",
   "metadata": {},
   "outputs": [],
   "source": [
    "## K means initialization\n",
    "import random\n",
    "import re\n",
    "import pandas as pd\n",
    "import numpy as np\n",
    "import json\n",
    "import matplotlib.pyplot as plt\n",
    "import pickle\n",
    "%matplotlib inline\n",
    "\n",
    "r = 1\n",
    "s = 0\n",
    "\n",
    "centroidsIniciais=[]\n",
    "centroidsFinal=[]\n",
    "numero_iteracoes=[]\n",
    "mse=[]\n",
    "starter_cent = []\n",
    "\n",
    "with open(\"Circles/inicialCentroids_32centroids.txt\", \"rb\") as fp:   # Unpickling\n",
    "    starter_cent = pickle.load(fp)\n",
    "\n",
    "while r <= 30:\n",
    "    k = k_value\n",
    "\n",
    "    centroids = starter_cent[s]\n",
    "    import pandas as pd\n",
    "\n",
    "    df = pd.DataFrame(columns=[])\n",
    "    df = dataFiles\n",
    "    df = df.rename(columns={'x':'0','y':'1'})\n",
    "\n",
    "    def assignment(df, centroids):\n",
    "        for i in centroids.keys():\n",
    "            value = 0\n",
    "            # (x1 - x2)² + (y1 - y2)²\n",
    "            for a in range(dim):\n",
    "                value = (df[f\"{a}\"] - centroids[i][a]) ** 2 + value\n",
    "            df['distance_from_{}'.format(i)] = value\n",
    "        centroid_distance_cols = ['distance_from_{}'.format(i) for i in centroids.keys()]\n",
    "        df['closest'] = df.loc[:, centroid_distance_cols].idxmin(axis=1)\n",
    "        df['closest'] = df['closest'].map(lambda x: int(x.lstrip('distance_from_')))\n",
    "#         df['color'] = df['closest'].map(lambda x: colors[x])\n",
    "        return df\n",
    "\n",
    "    df = assignment(df, centroids)\n",
    "\n",
    "    import copy\n",
    "\n",
    "    old_centroids = copy.deepcopy(centroids)\n",
    "\n",
    "    def update(current):\n",
    "        new_k = copy.deepcopy(centroids)\n",
    "        k = k_value\n",
    "        for j in current.keys():\n",
    "            for l in range(dim):\n",
    "                #centroids = old_value + 1.8 * (current_value - old_value)\n",
    "                current[j][l] = np.mean(df[df['closest'] == j][f\"{l}\"])\n",
    "                new_k[j][l] = old_centroids[j][l] + 0.7 * (current[j][l] - old_centroids[j][l])\n",
    "                # normal k[i][a] = np.mean(df[df['closest'] == i][a])\n",
    "        return new_k\n",
    "\n",
    "\n",
    "    centroids = update(centroids)\n",
    "\n",
    "    df = assignment(df, centroids)\n",
    "    \n",
    "    a = 0\n",
    "    while True:\n",
    "        a = a + 1\n",
    "        closest_centroids = df['closest'].copy(deep=True)\n",
    "        for i in closest_centroids:\n",
    "            df['old_value'] = df['distance_from_{}'.format(i)]\n",
    "        centroids = update(centroids)\n",
    "        df = assignment(df, centroids)\n",
    "        current_centroids = df['closest'].copy(deep=True)\n",
    "        for i in current_centroids:\n",
    "            df['current_value'] = df['distance_from_{}'.format(i)]\n",
    "        delta = (np.sum(df['old_value']) - np.sum(df['current_value']))/(np.sum(df['old_value']))\n",
    "        if delta <= limiar_dist: \n",
    "            break\n",
    "    num_int = a        \n",
    "\n",
    "    old_df = df\n",
    "    old_df = old_df.drop(['0','1','closest','old_value','current_value'], axis=1)\n",
    "    for i in centroids.keys():\n",
    "        old_df = old_df.rename(columns={f\"distance_from_{i}\":f\"{i}\"})    \n",
    "    new_df = pd.DataFrame(columns=['new_data_with_centroids'])\n",
    "    def reconstrucao():\n",
    "        arr = []\n",
    "        valueCentroidMin = old_df.idxmin(axis=1)\n",
    "        valueCentroidMin = np.array(valueCentroidMin)\n",
    "        for i in valueCentroidMin:\n",
    "            arr.append(centroids[int(i)])\n",
    "        new_df['new_data_with_centroids'] = arr\n",
    "\n",
    "    reconstrucao()\n",
    "\n",
    "    new_df['old_data_x'] = dataFiles['x'].to_numpy()\n",
    "    new_df['old_data_y'] = dataFiles['y'].to_numpy()\n",
    "\n",
    "    array_x = []\n",
    "    array_y = []\n",
    "    for i in new_df['new_data_with_centroids']:\n",
    "        array_x.append(i[0])\n",
    "        array_y.append(i[1])\n",
    "    new_df['x_new'] = array_x\n",
    "    new_df['y_new'] = array_y\n",
    "    new_df = new_df.drop(['new_data_with_centroids'], axis=1)\n",
    "\n",
    "    # new_df\n",
    "\n",
    "    a = 0\n",
    "    MSE = 0\n",
    "    new_value = [*new_df['x_new'].to_numpy() , *new_df['y_new'].to_numpy()] \n",
    "    old_value = [*new_df['old_data_x'].to_numpy() , *new_df['old_data_y'].to_numpy()]\n",
    "    for i in new_value:\n",
    "        MSE = (i - old_value[a]) **2 + MSE  \n",
    "        a = a + 1\n",
    "    MSE = MSE / len(new_value) \n",
    "    dataFrameFinal = pd.DataFrame(columns=[])\n",
    "\n",
    "    centroidsFinal.append(json.dumps(centroids))\n",
    "    numero_iteracoes.append(num_int)\n",
    "    mse.append(MSE)\n",
    "\n",
    "    r = r + 1\n",
    "    s = s + 1\n",
    "\n",
    "dataFrameFinal['MSE'] = mse\n",
    "dataFrameFinal['centroidsInicial'] = starter_cent\n",
    "dataFrameFinal['centroidsFinal'] = centroidsFinal\n",
    "dataFrameFinal['NInteracoes'] = numero_iteracoes\n",
    "\n",
    "dataFrameFinal.to_csv('Circles/tables/tabela_final_Kmeans_Acelerado_32centroids.csv')"
   ]
  },
  {
   "cell_type": "code",
   "execution_count": 51,
   "id": "22079ae6",
   "metadata": {},
   "outputs": [],
   "source": [
    "value_test = json.loads(dataFrameFinal['centroidsFinal'][29])"
   ]
  },
  {
   "cell_type": "code",
   "execution_count": 52,
   "id": "3c118c03",
   "metadata": {},
   "outputs": [
    {
     "data": {
      "image/png": "[encoded data removed]",
      "text/plain": [
       "<Figure size 360x360 with 1 Axes>"
      ]
     },
     "metadata": {
      "needs_background": "light"
     },
     "output_type": "display_data"
    }
   ],
   "source": [
    "fig = plt.figure(figsize=(5,5))\n",
    "img = plt.scatter(df['0'], df['1'],color='yellow',alpha=0.5,edgecolor='k')\n",
    "for i in value_test.keys():\n",
    "    plt.scatter(*value_test[i],color='black',s=100,edgecolor='white')\n",
    "plt.show()"
   ]
  },
  {
   "cell_type": "code",
   "execution_count": null,
   "id": "97b1e997",
   "metadata": {},
   "outputs": [],
   "source": []
  }
 ],
 "metadata": {
  "kernelspec": {
   "display_name": "Python 3 (ipykernel)",
   "language": "python",
   "name": "python3"
  },
  "language_info": {
   "codemirror_mode": {
    "name": "ipython",
    "version": 3
   },
   "file_extension": ".py",
   "mimetype": "text/x-python",
   "name": "python",
   "nbconvert_exporter": "python",
   "pygments_lexer": "ipython3",
   "version": "3.8.5"
  }
 },
 "nbformat": 4,
 "nbformat_minor": 5
}
